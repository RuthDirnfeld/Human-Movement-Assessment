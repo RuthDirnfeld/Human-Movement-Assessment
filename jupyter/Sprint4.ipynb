{
 "cells": [
  {
   "cell_type": "markdown",
   "metadata": {
    "id": "XKbfH2dHf4aV"
   },
   "source": [
    "### Demo: http://ec2-13-48-176-197.eu-north-1.compute.amazonaws.com:5000/"
   ]
  },
  {
   "cell_type": "markdown",
   "metadata": {
    "id": "pNW2vYrF0mLw"
   },
   "source": [
    "As the given dataset is split into three types of data - FMS, NASM and time - it was decided to select some combinations of these three groups and see which model would have the highest Accuracy Score. LDA, QDA and KNN were performed on the same feature groups and on different datasets. More specifically, the WeakLink_label is the last feature of the AimoScore_WeakLink_big_scores_labels dataset, and the One_hot_encoding is a feature in the AimoScore_WeakLink_big_scores_one_hot dataset.  \n",
    "Removal of values for symmetrical pairs or choosing high or low correlations was performed in the same manner as in Sprint2 and Sprint3.  \n"
   ]
  },
  {
   "cell_type": "markdown",
   "metadata": {
    "id": "mREGT0j3bXiy"
   },
   "source": [
    "To access the different feature groups, to remove left or right elements of the symmetries or tests with high or low correlation values were performed with the help of the following:\n"
   ]
  },
  {
   "cell_type": "code",
   "execution_count": null,
   "metadata": {
    "id": "Rsb-baHIc-XB"
   },
   "outputs": [],
   "source": [
    "# Accessing different feature groups\n",
    "FMS_arr = data.iloc[:, 1:14] # only FMS  \n",
    "NASM_arr = data.iloc[:, 14:39] # only NASM  \n",
    "time_arr = data.iloc[:, 39:41] # only time features  \n",
    "all_f_arr = data.iloc[:, 1:39] # FMS and NASM features, but no time  \n",
    "all_f_t_arr = data.iloc[:, 1:41] # FMS + NASM + time  \n",
    "FSM_time_arr = data.iloc[:, np.r_[1:14, 39:41]] # FMS + time  \n",
    "NASM_time_arr = data.iloc[:, 14:41] # NASM + time  "
   ]
  },
  {
   "cell_type": "code",
   "execution_count": null,
   "metadata": {
    "id": "UUcmDtprdccZ"
   },
   "outputs": [],
   "source": [
    "# Remove high and low correlations, then remove right and left of pairs\n",
    "fms_sym = [[4, 6], [5, 7], [8, 11], [9, 12], [10, 13]]\n",
    "nasm_sym = [[14, 15], [17, 18], [21, 22], [24, 25], [26, 27], [28, 29], [31, 32]]"
   ]
  },
  {
   "cell_type": "code",
   "execution_count": null,
   "metadata": {
    "id": "a4RS26GEdAa0"
   },
   "outputs": [],
   "source": [
    "# This loop just removes either right or left element of the symmetrical pair.\n",
    "# Same applies for selected_features and for either having fms_sym or nasm_sym\n",
    "for left, right in fms_sym:\n",
    "    to_remove = data.columns[right]\n",
    "    del selected_features[to_remove]"
   ]
  },
  {
   "cell_type": "code",
   "execution_count": null,
   "metadata": {
    "id": "Buhap93jdrvF"
   },
   "outputs": [],
   "source": [
    "# If element on the left of the pair has higher correlation with WeakLink_score than\n",
    "# element on the right side of the pair, remove right element. If low correlation is\n",
    "# wanted then simply change the \">\" to \"<\"\n",
    "for left, right in fms_sym:\n",
    "    l = data.columns[left]\n",
    "    r = data.columns[right]\n",
    "    if abs(data[l].corr(labels)) > abs(data[r].corr(labels)): \n",
    "        del selected_features[r]\n",
    "    else:\n",
    "        del selected_features[l]"
   ]
  },
  {
   "cell_type": "markdown",
   "metadata": {
    "id": "sfIKVxtDcsA4"
   },
   "source": [
    "# Iterations\n",
    "## 1. Removing right value of symmetrical pairs \n",
    "\n",
    "* WeakLink_label\n",
    "    \n",
    "| Groups             | LDA   | QDA   | KNN   |\n",
    "|--------------------|-------|-------|-------|\n",
    "|  FMS               | 0.440 | 0.481 | 0.631 |\n",
    "|  FMS + time        | 0.443 | 0.506 | 0.634 |\n",
    "|  NASM              | 0.558 | 0.681 | 0.720 |\n",
    "|  NASM + time       | 0.562 | 0.706 | **0.722** |  \n",
    "\n",
    "* One_hot_encoding\n",
    "\n",
    "| Groups             | LDA   | QDA   | KNN   |\n",
    "|--------------------|-------|-------|-------|\n",
    "|  FMS               | 0.455 | 0.462 | 0.646 |\n",
    "|  FMS + time        | 0.457 | 0.485 | 0.648 |\n",
    "|  NASM              | 0.549 | 0.698 | **0.730** |\n",
    "|  NASM + time       | 0.553 | 0.709 | 0.713 |"
   ]
  },
  {
   "cell_type": "markdown",
   "metadata": {
    "id": "zbI9gCNkcsA6"
   },
   "source": [
    "## 2. Removing left value of symmetrical pairs  \n",
    "\n",
    "* WeakLink_label\n",
    "  \n",
    "| Groups             | LDA   | QDA   | KNN   |\n",
    "|--------------------|-------|-------|-------|\n",
    "|  FMS               | 0.445 | 0.488 | 0.643 |\n",
    "|  FMS + time        | 0.452 | 0.508 | 0.665 |\n",
    "|  NASM              | 0.535 | 0.684 | 0.711 |\n",
    "|  NASM + time       | 0.550 | 0.709 | **0.719** |  \n",
    "\n",
    "* One_hot_encoding\n",
    "    \n",
    "| Groups             | LDA   | QDA   | KNN   |\n",
    "|--------------------|-------|-------|-------|\n",
    "|  FMS               | 0.436 | 0.474 | 0.644 |\n",
    "|  FMS + time        | 0.458 | 0.5   | 0.651 |\n",
    "|  NASM              | 0.534 | 0.677 | **0.709** |\n",
    "|  NASM + time       | 0.544 | 0.705 | 0.702 |  "
   ]
  },
  {
   "cell_type": "markdown",
   "metadata": {
    "id": "-nx1kbTfcsA7"
   },
   "source": [
    "## 3. Removing higher colerration feature (to WeakLink_score) from symmetrical pairs\n",
    "\n",
    "* WeakLink_label\n",
    "\n",
    "| Groups             | LDA   | QDA   | KNN   |\n",
    "|--------------------|-------|-------|-------|\n",
    "|  FMS               | 0.460 | 0.504 | 0.644 |\n",
    "|  FMS + time        | 0.463 | 0.539 | 0.647 |\n",
    "|  NASM              | 0.537 | 0.681 | 0.726 |\n",
    "|  NASM + time       | 0.544 | 0.709 | **0.728** |  \n",
    "\n",
    " * One_hot_encoding\n",
    "    \n",
    "| Groups             | LDA   | QDA   | KNN   |\n",
    "|--------------------|-------|-------|-------|\n",
    "|  FMS               | 0.462 | 0.492 | 0.654 |\n",
    "|  FMS + time        | 0.466 | 0.509 | 0.661 |\n",
    "|  NASM              | 0.537 | 0.681 | **0.713** |\n",
    "|  NASM + time       | 0.538 | 0.702 | 0.710 |  "
   ]
  },
  {
   "cell_type": "markdown",
   "metadata": {
    "id": "RoimZkfCcsA8"
   },
   "source": [
    "## 4. Removing lower colerration feature (to WeakLink_score) from symmetrical pairs  \n",
    "\n",
    "* WeakLink_label\n",
    "\n",
    "| Groups             | LDA   | QDA   | KNN   |\n",
    "|--------------------|-------|-------|-------|\n",
    "|  FMS               | 0.429 | 0.476 | 0.629 |\n",
    "|  FMS + time        | 0.442 | 0.496 | 0.631 |\n",
    "|  NASM              | 0.558 | 0.690 | 0.696 |\n",
    "|  NASM + time       | 0.573 | 0.704 | **0.721** |  \n",
    "\n",
    " * One_hot_encoding\n",
    "    \n",
    "| Groups             | LDA   | QDA   | KNN   |\n",
    "|--------------------|-------|-------|-------|\n",
    "|  FMS               | 0.433 | 0.451 | 0.634 |\n",
    "|  FMS + time        | 0.435 | 0.480 | 0.625 |\n",
    "|  NASM              | 0.558 | 0.691 | **0.715** |\n",
    "|  NASM + time       | 0.560 | 0.706 | 0.706 | "
   ]
  },
  {
   "cell_type": "markdown",
   "metadata": {
    "id": "yTC8ViP_csA9"
   },
   "source": [
    "## 5. Individual group selection without modifications\n",
    "\n",
    "* WeakLink_label\n",
    "    \n",
    "| Groups             | LDA   | QDA   | KNN   |\n",
    "|--------------------|-------|-------|-------|\n",
    "|  FMS               | 0.495 | 0.582 | 0.665 |\n",
    "|   NASM             | 0.603 | 0.781 | 0.737 |\n",
    "|  Time features     | 0.301 | 0.001 | 0.515 |\n",
    "|  FMS + NASM        | 0.628 | 0.482 | **0.757** |\n",
    "|  FMS + NASM + time | 0.631 | 0.504 | 0.749 |\n",
    "|  FMS + time        | 0.508 | 0.606 | 0.663 |\n",
    "|  NASM + time       | 0.606 | **0.797** | 0.730 |\n",
    "\n",
    " * One_hot_encoding\n",
    "    \n",
    "| Groups             | LDA   | QDA   | KNN   |\n",
    "|--------------------|-------|-------|-------|\n",
    "|  FMS               | 0.497 | 0.567 | 0.674 |\n",
    "|   NASM             | 0.6   | 0.762 | 0.723 |\n",
    "|  Time features     | 0.306 | 0.001 | 0.487 |\n",
    "|  FMS + NASM        | 0.625 | 0.481 | **0.750** |\n",
    "|  FMS + NASM + time | 0.627 | 0.450 | 0.745 |\n",
    "|  FMS + time        | 0.506 | 0.590 | 0.682 |\n",
    "|  NASM + time       | 0.601 | **0.784** | 0.728 |"
   ]
  },
  {
   "cell_type": "markdown",
   "metadata": {
    "id": "vlG2zgJRcsA-"
   },
   "source": [
    "QDA performs best when testing against NASM + time features, when performing tests with the WeakLink_label, with an accuracy score of 0.797. However, KNN is chosen for the implementation since the QDA has limitations when tested against the WeakLink_label due to ill defined covariance. KNN peformed best when tested against FMS + NASM with an accuracy score of 0.757."
   ]
  },
  {
   "cell_type": "code",
   "execution_count": null,
   "metadata": {
    "id": "e9J0Z-pHcsA_"
   },
   "outputs": [],
   "source": [
    "import sys\n",
    "import pandas as pd\n",
    "import numpy as np\n",
    "import matplotlib\n",
    "import matplotlib.pyplot as plt\n",
    "import seaborn as sns\n",
    "from sklearn.model_selection import train_test_split\n",
    "from sklearn.metrics import accuracy_score\n",
    "from sklearn.discriminant_analysis import LinearDiscriminantAnalysis, QuadraticDiscriminantAnalysis\n",
    "from sklearn import neighbors\n",
    "np.warnings.filterwarnings('ignore')"
   ]
  },
  {
   "cell_type": "code",
   "execution_count": null,
   "metadata": {
    "id": "DN1iPs2_csBD"
   },
   "outputs": [],
   "source": [
    "data = pd.read_csv('datasets/AimoScore_WeakLink_big_scores_labels.csv',index_col=0, parse_dates=True)\n",
    "data_score = pd.read_csv('datasets/AimoScore_WeakLink_big_scores_Labels_and_Scores.csv',index_col=0, parse_dates=True)"
   ]
  },
  {
   "cell_type": "code",
   "execution_count": null,
   "metadata": {
    "id": "iz75bgkYcsBH"
   },
   "outputs": [],
   "source": [
    "#data['WeakLink_label'].value_counts()"
   ]
  },
  {
   "cell_type": "code",
   "execution_count": null,
   "metadata": {
    "id": "ce-D44bzcsBJ"
   },
   "outputs": [],
   "source": [
    "# Split training and validation set 70%-30%\n",
    "train_set, validation_set = train_test_split(data, test_size=0.3)"
   ]
  },
  {
   "cell_type": "code",
   "execution_count": null,
   "metadata": {
    "id": "gqq4-pj4csBM",
    "outputId": "e6e24615-3c07-43a3-9457-c48eaf97f82a"
   },
   "outputs": [
    {
     "name": "stdout",
     "output_type": "stream",
     "text": [
      "\n",
      " FMS and NASM features \n",
      " Accuracy Score:  0.7569965870307167\n"
     ]
    }
   ],
   "source": [
    "selected_features = train_set.iloc[:, 1:39]\n",
    "    \n",
    "X_train = selected_features\n",
    "y_train = train_set['WeakLink_label']\n",
    "\n",
    "X_test = selected_features\n",
    "y_test = train_set['WeakLink_label']\n",
    "\n",
    "knn = neighbors.KNeighborsClassifier(n_neighbors = 3)\n",
    "model = knn.fit(X_train, y_train)\n",
    "\n",
    "pred = model.predict(X_test)\n",
    "print('\\n FMS and NASM features'\n",
    "      ' \\n Accuracy Score: ',accuracy_score(train_set[\"WeakLink_label\"], pred))"
   ]
  },
  {
   "cell_type": "markdown",
   "metadata": {
    "id": "A3XVcnprd0rx"
   },
   "source": [
    "# Architecture updates"
   ]
  },
  {
   "cell_type": "markdown",
   "metadata": {
    "id": "Ziscgg7peASH"
   },
   "source": [
    "1. Extended ml_core to contain pipelines for both models\n",
    "2. Updated config for new datasets and models\n",
    "3. Added preprocessing script to merge weak link labels with the feature dataset. Also added the creation of one-hot-encoding labels\n",
    "4. Added classification feature to Front-end\n",
    "5. Updated the UI design"
   ]
  },
  {
   "cell_type": "markdown",
   "metadata": {
    "id": "abWDaz0-fSwJ"
   },
   "source": [
    "# Dependency management strategy updates"
   ]
  },
  {
   "cell_type": "markdown",
   "metadata": {
    "id": "k-EBjgypflsg"
   },
   "source": [
    "The datasets are now avaliable at the artifactory and are not commited to repository branch. In order to download them and fit to project structure the `update.sh` bash script was created."
   ]
  }
 ],
 "metadata": {
  "colab": {
   "collapsed_sections": [],
   "provenance": []
  },
  "kernelspec": {
   "display_name": "Python 3 (ipykernel)",
   "language": "python",
   "name": "python3"
  },
  "language_info": {
   "codemirror_mode": {
    "name": "ipython",
    "version": 3
   },
   "file_extension": ".py",
   "mimetype": "text/x-python",
   "name": "python",
   "nbconvert_exporter": "python",
   "pygments_lexer": "ipython3",
   "version": "3.10.7"
  }
 },
 "nbformat": 4,
 "nbformat_minor": 1
}
