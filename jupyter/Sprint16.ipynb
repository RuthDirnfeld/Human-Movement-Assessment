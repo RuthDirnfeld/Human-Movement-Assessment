{
 "cells": [
  {
   "cell_type": "markdown",
   "metadata": {
    "id": "h5-naZgw8cdM"
   },
   "source": [
    "# Additional experiments for models from sprints 13-15\n",
    "\n",
    "We believed that we could improve the accuracy of models from previous 3 sprints, therefore we executed experiments with architectures and hyperparameters that were not tested in the previous sprints. Unlike before, we also display accuracy of the model by comparing true values with predicted values in sprint 14 and 15 experiments.\n",
    "\n",
    "Architectures and hyperparameters were tested differently compared to the previous sprints - instead of using grid search, we manually changed the model depending on the previous model's results. \n",
    "\n",
    "**NOTE**: Most of these experiments were ran as a script and not in a notebook as it was extremely slow, therefore you won't be able to see some printouts in this notebook."
   ]
  },
  {
   "cell_type": "markdown",
   "metadata": {
    "id": "7zBrUt7ICQw_"
   },
   "source": [
    "# Sprint 13\n",
    "\n",
    "The initial experiments with the DNN architecture were found to have two Dropout layers. This has been corrected in the new iteration and experiments were run again. The architecture is similar as in the previous submission.  \n",
    "On the other hand more experiments were performed with the CNN architecture. During this iteration the following parameters were varied manually:  \n",
    "\n",
    "* the Conv2D filter sizes 8, 16, 32, 64, 256 in different orders for various layers\n",
    "* the learning rate was varied between 1e-3 and 3e-4 (these learning rate values have proven to give the best results in the past)\n",
    "* stride and kernel width were 1, 2, or 3.\n",
    "* epoch size due to experience from previous iterations was 20 or 500\n",
    "* batch size was kept to a very small number as it caused ResourceExhaustedError if larger.\n",
    "\n",
    "The best performing convolutional network architecture ended up having 3 conv2d layers with different kernel widths and pool strides, which improved the result and thus was decided to use for the implementation as well. The exact parameters can be viewed below. The model achieved a loss of 0.116, 97% accuracy and 97% recall on test data.\n",
    "\n"
   ]
  },
  {
   "cell_type": "code",
   "execution_count": null,
   "metadata": {
    "id": "mQgV4YW0RK9r"
   },
   "outputs": [],
   "source": [
    "import os\n",
    "os.environ['TF_CPP_MIN_LOG_LEVEL'] = '3' \n",
    "import tensorflow as tf\n",
    "import numpy as np\n",
    "import matplotlib.pyplot as plt\n",
    "import random\n",
    "import pandas as pd\n",
    "from pathlib import Path\n",
    "from sklearn.model_selection import train_test_split\n",
    "from sklearn.preprocessing import MinMaxScaler, StandardScaler\n",
    "from tensorflow.keras import Sequential, Model\n",
    "from tensorflow.keras.layers import BatchNormalization, Dense, Conv1D, Conv2D, MaxPool1D, MaxPool2D, Flatten, Dropout, Input, Activation, LSTM, GRU, SimpleRNN, Concatenate, TimeDistributed\n",
    "from tensorflow.keras.optimizers import Adam, RMSprop\n",
    "from tensorflow.keras.utils import plot_model\n",
    "from tensorflow.keras.callbacks import EarlyStopping, TensorBoard\n",
    "from tensorflow.keras import backend as K\n",
    "import glob\n",
    "from matplotlib import pyplot\n",
    "from sklearn.metrics import confusion_matrix "
   ]
  },
  {
   "cell_type": "code",
   "execution_count": null,
   "metadata": {
    "id": "z6M_lymwRK9x"
   },
   "outputs": [],
   "source": [
    "def plot_metrics(history):\n",
    "    colors = pyplot.rcParams['axes.prop_cycle'].by_key()['color']\n",
    "    metrics =  ['loss', 'auc', 'precision', 'recall']\n",
    "    pyplot.figure(figsize=(10,5))\n",
    "    for n, metric in enumerate(metrics):\n",
    "        name = metric.replace(\"_\",\" \").capitalize()\n",
    "        pyplot.subplot(2,2,n+1)\n",
    "        pyplot.plot(history.epoch, history.history[metric], color=colors[0], label='Train')\n",
    "        pyplot.plot(history.epoch, history.history['val_'+ metric],\n",
    "             color=colors[0], linestyle=\"--\", label='Val')\n",
    "        pyplot.xlabel('Epoch')\n",
    "        pyplot.ylabel(name)\n",
    "        if metric == 'loss':\n",
    "            pyplot.ylim([0, pyplot.ylim()[1] +0.1])\n",
    "        else:\n",
    "            pyplot.ylim([-0.1,1.1])\n",
    "        pyplot.legend()"
   ]
  },
  {
   "cell_type": "markdown",
   "metadata": {
    "id": "Qt4EZft5RK92"
   },
   "source": [
    "# DNN for Kinect"
   ]
  },
  {
   "cell_type": "code",
   "execution_count": null,
   "metadata": {
    "id": "IBmxMXbMRK98",
    "outputId": "a0fbb189-6831-4760-c43f-c5bc888ccff6"
   },
   "outputs": [
    {
     "name": "stdout",
     "output_type": "stream",
     "text": [
      "(3616, 10, 39)\n"
     ]
    }
   ],
   "source": [
    "# This will store arrays of data from files\n",
    "features = []\n",
    "# This will store 1 for good and 0 for wrong(bad)\n",
    "labels = []\n",
    "\n",
    "for files in glob.glob('distrib_kinect/*.csv'):\n",
    "    d = pd.read_csv(str(files)).values\n",
    "    if 'G' in files or 'A' in files:\n",
    "        labels.append(1)\n",
    "    else:\n",
    "        labels.append(0)\n",
    "    features.append(d)\n",
    "    \n",
    "# Convert them to numpy arrays, cause easier\n",
    "features = np.array(features)\n",
    "labels = np.array(labels)\n",
    "\n",
    "print(features.shape)\n",
    "\n",
    "# Scale the data\n",
    "scalers = {}\n",
    "for i in range(features.shape[1]):\n",
    "    scalers[i] = StandardScaler()\n",
    "    features[:, i, :] = scalers[i].fit_transform(features[:, i, :])\n",
    "\n",
    "for i in range(features.shape[1]):\n",
    "    features[:, i, :] = scalers[i].transform(features[:, i, :])"
   ]
  },
  {
   "cell_type": "code",
   "execution_count": null,
   "metadata": {
    "id": "BP8lsWisRK-I",
    "outputId": "62949369-72ce-4477-ba23-5a088f8df393"
   },
   "outputs": [
    {
     "name": "stdout",
     "output_type": "stream",
     "text": []
    }
   ],
   "source": [
    "METRICS = [\n",
    "      tf.keras.metrics.TruePositives(name='tp'),\n",
    "      tf.keras.metrics.FalsePositives(name='fp'),\n",
    "      tf.keras.metrics.TrueNegatives(name='tn'),\n",
    "      tf.keras.metrics.FalseNegatives(name='fn'),\n",
    "      tf.keras.metrics.BinaryAccuracy(name='accuracy'),\n",
    "      tf.keras.metrics.Precision(name='precision'),\n",
    "      tf.keras.metrics.Recall(name='recall'),\n",
    "      tf.keras.metrics.AUC(name='auc'),\n",
    "]"
   ]
  },
  {
   "cell_type": "code",
   "execution_count": null,
   "metadata": {
    "id": "8yiz8hWPyqsi",
    "outputId": "bb97eb94-430c-4835-b256-72f985d92db7"
   },
   "outputs": [
    {
     "name": "stdout",
     "output_type": "stream",
     "text": [
      "Model: \"sequential\"\n",
      "_________________________________________________________________\n",
      "Layer (type)                 Output Shape              Param #   \n",
      "=================================================================\n",
      "dense (Dense)                (None, 10, 8)             320       \n",
      "_________________________________________________________________\n",
      "batch_normalization (BatchNo (None, 10, 8)             32        \n",
      "_________________________________________________________________\n",
      "flatten (Flatten)            (None, 80)                0         \n",
      "_________________________________________________________________\n",
      "dense_1 (Dense)              (None, 64)                5184      \n",
      "_________________________________________________________________\n",
      "batch_normalization_1 (Batch (None, 64)                256       \n",
      "_________________________________________________________________\n",
      "dropout (Dropout)            (None, 64)                0         \n",
      "_________________________________________________________________\n",
      "dense_2 (Dense)              (None, 1)                 65        \n",
      "=================================================================\n",
      "Total params: 5,857\n",
      "Trainable params: 5,713\n",
      "Non-trainable params: 144\n",
      "_________________________________________________________________\n",
      "Restoring model weights from the end of the best epoch.\n",
      "Epoch 00177: early stopping\n",
      "loss :  0.1132013343161394\n",
      "tp :  405.0\n",
      "fp :  13.0\n",
      "tn :  287.0\n",
      "fn :  19.0\n",
      "accuracy :  0.9558011\n",
      "precision :  0.96889955\n",
      "recall :  0.9551887\n",
      "auc :  0.993467\n",
      "\n"
     ]
    }
   ],
   "source": [
    "# split data into train, test, val\n",
    "x_train, x_test, y_train, y_test = train_test_split(features, labels, test_size=0.2)\n",
    "x_train, x_val, y_train, y_val = train_test_split(x_train, y_train, test_size=0.2)\n",
    "\n",
    "def make_model6():\n",
    "    model = tf.keras.Sequential()\n",
    "    model.add(tf.keras.layers.InputLayer(input_shape=x_test[0].shape))\n",
    "    model.add(tf.keras.layers.Dense(8, activation='tanh'))\n",
    "    model.add(tf.keras.layers.BatchNormalization())\n",
    "    model.add(Flatten())\n",
    "    model.add(tf.keras.layers.Dense(64, activation='tanh'))\n",
    "    model.add(tf.keras.layers.BatchNormalization())\n",
    "    model.add(tf.keras.layers.Dropout(0.2))\n",
    "    model.add(tf.keras.layers.Dense(1, activation='sigmoid'))\n",
    "    model.compile(loss='binary_crossentropy', optimizer=tf.keras.optimizers.Adam(learning_rate = 3e-4), metrics = METRICS)\n",
    "    return model\n",
    "\n",
    "\n",
    "# construct model\n",
    "model6 = make_model6()\n",
    "model6.summary()\n",
    "                \n",
    "# compile\n",
    "es = tf.keras.callbacks.EarlyStopping(monitor='val_auc', verbose=1, patience=10, mode='max', restore_best_weights=True)\n",
    "# fit model\n",
    "baseline_history6 = model6.fit(x_train, y_train, validation_data=(x_val, y_val), epochs=500, verbose=0, batch_size=8, callbacks=[es])\n",
    "baseline_results6 = model6.evaluate(x_test, y_test, batch_size=8, verbose=0)\n",
    "\n",
    "for name, value in zip(model6.metrics_names, baseline_results6):\n",
    "    print(name, ': ', value)\n",
    "print()"
   ]
  },
  {
   "cell_type": "code",
   "execution_count": null,
   "metadata": {
    "id": "izZ8_0vFyqso",
    "outputId": "6e1bbf63-4486-4b8b-a369-5f64c0d8a51b"
   },
   "outputs": [
    {
     "data": {
      "image/png": "[encoded data removed]",
      "text/plain": [
       "<Figure size 720x360 with 4 Axes>"
      ]
     },
     "metadata": {
      "needs_background": "light",
      "tags": []
     },
     "output_type": "display_data"
    }
   ],
   "source": [
    "plot_metrics(baseline_history6)"
   ]
  },
  {
   "cell_type": "markdown",
   "metadata": {
    "id": "29dirx7CRK-q"
   },
   "source": [
    "# Kinect with CNN"
   ]
  },
  {
   "cell_type": "code",
   "execution_count": null,
   "metadata": {
    "id": "lOwokXJ2RK-q"
   },
   "outputs": [],
   "source": [
    "file_dir = os.path.abspath('') # This returns the directory path that this script is in\n",
    "# This will store arrays of data from files\n",
    "features = []\n",
    "# This will store 1 for good and 0 for wrong(bad)\n",
    "labels = []\n",
    "for csv_posix in Path(file_dir+'\\distrib_kinect').iterdir():\n",
    "    if csv_posix.suffix != \".csv\":\n",
    "        continue\n",
    "    # Get the values in a form of an array\n",
    "    d = pd.read_csv(str(csv_posix)).values\n",
    "    # Append label to the label array based on file name\n",
    "    if 'G' in csv_posix.stem or 'A' in csv_posix.stem:\n",
    "        labels.append(1)\n",
    "    else:\n",
    "        labels.append(0)\n",
    "    features.append(d)\n",
    "\n",
    "# Convert them to numpy arrays, cause easier\n",
    "features = np.array(features)\n",
    "labels = np.array(labels)\n",
    "\n",
    "# Scale the data\n",
    "scalers = {}\n",
    "for i in range(features.shape[1]):\n",
    "    scalers[i] = StandardScaler()\n",
    "    features[:, i, :] = scalers[i].fit_transform(features[:, i, :]) \n",
    "\n",
    "for i in range(features.shape[1]):\n",
    "    features[:, i, :] = scalers[i].transform(features[:, i, :]) \n",
    "\n",
    "# Reshape\n",
    "features=features.reshape(features.shape[0],features.shape[1],features.shape[2],1)"
   ]
  },
  {
   "cell_type": "code",
   "execution_count": null,
   "metadata": {
    "id": "3ZKxBs9xyqsv",
    "outputId": "a273a123-e0a4-4dcd-ad0c-0584545d5fa7"
   },
   "outputs": [
    {
     "name": "stdout",
     "output_type": "stream",
     "text": [
      "Model: \"sequential_2\"\n",
      "_________________________________________________________________\n",
      "Layer (type)                 Output Shape              Param #   \n",
      "=================================================================\n",
      "conv2d_3 (Conv2D)            (None, 10, 39, 8)         16        \n",
      "_________________________________________________________________\n",
      "max_pooling2d_3 (MaxPooling2 (None, 10, 39, 8)         0         \n",
      "_________________________________________________________________\n",
      "conv2d_4 (Conv2D)            (None, 9, 38, 8)          264       \n",
      "_________________________________________________________________\n",
      "max_pooling2d_4 (MaxPooling2 (None, 5, 19, 8)          0         \n",
      "_________________________________________________________________\n",
      "conv2d_5 (Conv2D)            (None, 3, 17, 16)         1168      \n",
      "_________________________________________________________________\n",
      "max_pooling2d_5 (MaxPooling2 (None, 1, 6, 16)          0         \n",
      "_________________________________________________________________\n",
      "flatten_2 (Flatten)          (None, 96)                0         \n",
      "_________________________________________________________________\n",
      "dense_4 (Dense)              (None, 1)                 97        \n",
      "=================================================================\n",
      "Total params: 1,545\n",
      "Trainable params: 1,545\n",
      "Non-trainable params: 0\n",
      "_________________________________________________________________\n",
      "loss :  0.1156966768987271\n",
      "tp :  426.0\n",
      "fp :  14.0\n",
      "tn :  273.0\n",
      "fn :  11.0\n",
      "accuracy :  0.9654696\n",
      "precision :  0.9681818\n",
      "recall :  0.97482836\n",
      "auc :  0.9899736\n",
      "\n"
     ]
    }
   ],
   "source": [
    "# split data into train, test, val\n",
    "x_train, x_test, y_train, y_test = train_test_split(features, labels, test_size=0.2)\n",
    "x_train, x_val, y_train, y_val = train_test_split(x_train, y_train, test_size=0.2)\n",
    "\n",
    "METRICS = [\n",
    "      tf.keras.metrics.TruePositives(name='tp'),\n",
    "      tf.keras.metrics.FalsePositives(name='fp'),\n",
    "      tf.keras.metrics.TrueNegatives(name='tn'),\n",
    "      tf.keras.metrics.FalseNegatives(name='fn'),\n",
    "      tf.keras.metrics.BinaryAccuracy(name='accuracy'),\n",
    "      tf.keras.metrics.Precision(name='precision'),\n",
    "      tf.keras.metrics.Recall(name='recall'),\n",
    "      tf.keras.metrics.AUC(name='auc'),\n",
    "]\n",
    "\n",
    "def make_model4():\n",
    "    model = Sequential()\n",
    "    model.add(Conv2D(8, (1, 1), activation='tanh', input_shape=x_test[0].shape))\n",
    "    model.add(MaxPool2D((1, 1), padding='same'))\n",
    "    model.add(Conv2D(8, (2, 2), activation='tanh'))\n",
    "    model.add(MaxPool2D((2, 2), padding='same'))\n",
    "    model.add(Conv2D(16, (3, 3), activation='tanh'))\n",
    "    model.add(MaxPool2D((3, 3), padding='same'))\n",
    "    model.add(Flatten())\n",
    "    #model.add(Dense(16, activation='tanh'))\n",
    "    model.add(Dense(1, activation='sigmoid'))\n",
    "    return model\n",
    "\n",
    "model4 = make_model4()\n",
    "# check if model params do not exceed 2000\n",
    "model4.summary()\n",
    "model4.compile(optimizer=Adam(learning_rate = 3e-4), loss='binary_crossentropy', metrics=METRICS)\n",
    "es = EarlyStopping(monitor='val_auc', verbose=0, patience=10, mode='max', restore_best_weights=True)\n",
    "history4 = model4.fit(x_train, y_train, epochs=500, validation_data=(x_val, y_val), verbose=0, batch_size=16, callbacks=[es])\n",
    "baseline_results4 = model4.evaluate(x_test, y_test, batch_size=16, verbose=0)\n",
    "                                \n",
    "for name, value in zip(model4.metrics_names, baseline_results4):\n",
    "    print(name, ': ', value)\n",
    "print()"
   ]
  },
  {
   "cell_type": "code",
   "execution_count": null,
   "metadata": {
    "id": "kAA-Znlwyqsy",
    "outputId": "c7d182a6-358a-4b2a-cf02-76f695c06054"
   },
   "outputs": [
    {
     "data": {
      "image/png": "[encoded data removed]",
      "text/plain": [
       "<Figure size 720x360 with 4 Axes>"
      ]
     },
     "metadata": {
      "needs_background": "light",
      "tags": []
     },
     "output_type": "display_data"
    }
   ],
   "source": [
    "plot_metrics(history4)"
   ]
  },
  {
   "cell_type": "markdown",
   "metadata": {
    "id": "JTsLDG_VCQyL"
   },
   "source": [
    "# Sprint 14"
   ]
  },
  {
   "cell_type": "markdown",
   "metadata": {
    "id": "ktj3nhm8AmtK"
   },
   "source": [
    "We couldn't achieve a good enough accuracy on the test data previously and we believed it to be due to the architecture being too small (too few neurons chosen for the CNN). We also decided to try out a custom loss function for the model fitting to increase efficiency and accuracy.\n",
    "\n",
    "On the previous attempt to find the best model, we used Conv3D layer as the input for the CNN part of the network was of shape 10x224x224x3. This not only slowed down the experiments immensely, but was not entirely a correct choice. The CNN part of the network deal with 10 frames of each video, but the video itself was 224x224 sized with 3 color channels. This makes the data really a 2D data, therefore Conv2D should have been used wrapped with a TimeDistributed layer to handle time dimension (10 frames).\n",
    "\n",
    "The following parameters were used for the experiments:\n",
    "* the number of neurons was chosen to be numbers that are powers of 2 up until 1024\n",
    "* the learning rate was varied between 1e-3, 3e-4 and 3e-5 (these learning rate values have proven to give the best results in the past)\n",
    "* stride and kernel width was either 2 or 3\n",
    "* we tried to keep epoch not higher than a 100 (20, 60, 100)\n",
    "* batch size was kept to a very small number as it caused ResourceExhaustedError if larger.\n",
    "\n",
    "The model with the best prediction resulted in 0.041 loss on test data. Below you can also see the graph showing predicted and true points. Most of the predicted points are fairly close to the actual values. The model has improved and can be used in the web-service now."
   ]
  },
  {
   "cell_type": "code",
   "execution_count": null,
   "metadata": {
    "id": "6ggqooYgAtcV"
   },
   "outputs": [],
   "source": [
    "def get_split_datasets(data_dir, mark_up_csv, test_size=0.15, random_state=15):\n",
    "    mark_up = pd.read_csv(mark_up_csv)\n",
    "    video_names = list(mark_up[\"video_name\"].values)\n",
    "\n",
    "    label_dir = f\"{data_dir}/labels\"\n",
    "    video_label_names = [n.split(\".\")[0] for n in video_names]\n",
    "    video_labels = np.array([np.load(f\"{label_dir}/{l}.npy\") for l in video_label_names])[:, 0]\n",
    "\n",
    "    train_names, test_names, y_train, y_test = train_test_split(\n",
    "        video_label_names, video_labels, test_size=test_size,\n",
    "        random_state=random_state, stratify=video_labels)\n",
    "    return train_names, test_names\n",
    "\n",
    "\n",
    "def get_data_by_name(video_name, data_dir):\n",
    "    frames = np.load(f\"{data_dir}/frames/{video_name}.npy\")\n",
    "    numeric_data = np.load(f\"{data_dir}/csvs/{video_name}.npy\")\n",
    "    labels = np.load(f\"{data_dir}/labels/{video_name}.npy\")\n",
    "    return frames, numeric_data, labels\n",
    "\n",
    "\n",
    "def get_data_instance(video_name, data_dir, is_augmented=True):\n",
    "    if is_augmented:\n",
    "        frames = []\n",
    "        numeric_data = []\n",
    "        labels = []\n",
    "        audmented_names = [p.stem for p in Path(f\"{data_dir}/labels/\").iterdir() if video_name == p.stem.split(\"_\")[0]]\n",
    "        for n in audmented_names:\n",
    "            frm, num_d, lab = get_data_by_name(video_name, data_dir)\n",
    "            frames.append(frm)\n",
    "            numeric_data.append(num_d)\n",
    "            labels.append(lab)\n",
    "        frames = np.array(frames)\n",
    "        numeric_data = np.array(numeric_data)\n",
    "        labels = np.array(labels)\n",
    "    else:\n",
    "        frames, numeric_data, labels = get_data_by_name(video_name, data_dir)\n",
    "        frames = np.array([frames])\n",
    "        numeric_data = np.array([numeric_data])\n",
    "        labels = np.array([labels])\n",
    "    return frames, numeric_data, labels\n",
    "\n",
    "data_dir = \"model_input\"\n",
    "csv_path = \"1-180.csv\"\n",
    "train_names, test_names = get_split_datasets(data_dir, csv_path)\n",
    "\n",
    "# Get validation set names\n",
    "validation_split = 0.1\n",
    "slice_indx = int(len(train_names) - len(train_names)*validation_split)\n",
    "validation_names = train_names[slice_indx:]\n",
    "train_names = train_names[:slice_indx]\n",
    "\n",
    "# Get train, validation and test data\n",
    "\n",
    "train_frames = []\n",
    "train_numeric = []\n",
    "train_labels = []\n",
    "\n",
    "for name in train_names:\n",
    "    frames, numeric, labels = get_data_instance(name, data_dir)\n",
    "    for i in range(frames.shape[0]):\n",
    "        train_frames.append(frames[i])\n",
    "        train_numeric.append(numeric[i])\n",
    "        train_labels.append(labels[i])\n",
    "\n",
    "train_frames = np.array(train_frames)\n",
    "train_numeric = np.array(train_numeric)\n",
    "train_labels = np.array(train_labels)\n",
    "\n",
    "valid_frames = []\n",
    "valid_numeric = []\n",
    "valid_labels = []\n",
    "\n",
    "for name in validation_names:\n",
    "    frames, numeric, labels = get_data_instance(name, data_dir)\n",
    "    for i in range(frames.shape[0]):\n",
    "        valid_frames.append(frames[i])\n",
    "        valid_numeric.append(numeric[i])\n",
    "        valid_labels.append(labels[i])\n",
    "\n",
    "valid_frames = np.array(valid_frames)\n",
    "valid_numeric = np.array(valid_numeric)\n",
    "valid_labels = np.array(valid_labels)\n",
    "\n",
    "test_frames = []\n",
    "test_numeric = []\n",
    "test_labels = []\n",
    "\n",
    "for name in test_names:\n",
    "    frames, numeric, labels = get_data_instance(name, data_dir, False)\n",
    "    for i in range(frames.shape[0]):\n",
    "        test_frames.append(frames[i])\n",
    "        test_numeric.append(numeric[i])\n",
    "        test_labels.append(labels[i])\n",
    "\n",
    "test_frames = np.array(test_frames)\n",
    "test_numeric = np.array(test_numeric)\n",
    "test_labels = np.array(test_labels)\n",
    "\n",
    "# Scale posenet data\n",
    "scalers = {}\n",
    "for i in range(train_numeric.shape[1]):\n",
    "    scalers[i] = StandardScaler()\n",
    "    train_numeric[:, i, :] = scalers[i].fit_transform(train_numeric[:, i, :])\n",
    "\n",
    "for i in range(train_numeric.shape[1]):\n",
    "    train_numeric[:, i, :] = scalers[i].transform(train_numeric[:, i, :])\n",
    "\n",
    "for i in range(valid_numeric.shape[1]):\n",
    "    valid_numeric[:, i, :] = scalers[i].transform(valid_numeric[:, i, :])\n",
    "\n",
    "for i in range(valid_numeric.shape[1]):\n",
    "    valid_numeric[:, i, :] = scalers[i].transform(valid_numeric[:, i, :])\n",
    "\n",
    "for i in range(test_numeric.shape[1]):\n",
    "    test_numeric[:, i, :] = scalers[i].transform(test_numeric[:, i, :])\n",
    "\n",
    "for i in range(test_numeric.shape[1]):\n",
    "    test_numeric[:, i, :] = scalers[i].transform(test_numeric[:, i, :])"
   ]
  },
  {
   "cell_type": "code",
   "execution_count": null,
   "metadata": {
    "id": "bBfr7SjlCQyT"
   },
   "outputs": [],
   "source": [
    "# cnn network\n",
    "def create_a ():\n",
    "    model = Sequential()\n",
    "    model.add(Input(shape=train_frames.shape[1:]))\n",
    "    model.add(TimeDistributed(Conv2D(128, (2, 2),activation='relu')))\n",
    "    model.add(TimeDistributed(MaxPooling2D(2,2)))\n",
    "    model.add(TimeDistributed(Conv2D(64, (2, 2), activation='relu')))\n",
    "    model.add(TimeDistributed(MaxPooling2D(2,2)))\n",
    "    model.add(TimeDistributed(Conv2D(32, (2, 2), activation='relu')))\n",
    "    model.add(TimeDistributed(MaxPooling2D(2,2)))\n",
    "    model.add(TimeDistributed(Flatten()))\n",
    "    model.add(GRU(256, return_sequences=True))\n",
    "    model.add(Flatten())\n",
    "    model.add(Dense(128, activation=\"relu\"))\n",
    "    return model\n",
    "\n",
    "# rnn network\n",
    "def create_b():\n",
    "    model = Sequential()\n",
    "    model.add(Input(shape=train_numeric.shape[1:]))\n",
    "    model.add(GRU(128))\n",
    "    model.add(Dense(256, activation=\"relu\"))\n",
    "    model.add(Dense(128, activation=\"relu\"))\n",
    "    return model\n",
    "\n",
    "# Normalize score labels\n",
    "train_labels[:, 0] = train_labels[:, 0] / 5\n",
    "test_labels[:, 0] = test_labels[:, 0] / 5\n",
    "valid_labels[:, 0] = valid_labels[:, 0] / 5"
   ]
  },
  {
   "cell_type": "code",
   "execution_count": null,
   "metadata": {
    "id": "4WVzrtFKCQyZ"
   },
   "outputs": [],
   "source": [
    "#Custom loss\n",
    "def cust_loss(y_true, y_pred):\n",
    "    return K.mean(abs(y_true[0] - y_pred[0]) / 5.0 + abs(y_true[1] - y_pred[1]))"
   ]
  },
  {
   "cell_type": "code",
   "execution_count": null,
   "metadata": {
    "id": "beILcoJGCQye"
   },
   "outputs": [],
   "source": [
    "cnn = create_a()\n",
    "rnn = create_b()\n",
    "concat = Concatenate(axis=1)\n",
    "combined = concat([cnn.output, rnn.output])\n",
    "dense = Dense(1024, activation=\"relu\")(combined)\n",
    "dropout = Dropout(0.2)(dense)\n",
    "output = Dense(2)(dropout)\n",
    "model = Model([cnn.input, rnn.input], output)\n",
    "model.compile(loss=cust_loss, optimizer = Adam(lr=1e-3))\n",
    "es = EarlyStopping(monitor='val_loss', patience=8, verbose=0, restore_best_weights=True)\n",
    "model.fit([train_frames, train_numeric], train_labels, batch_size=4, epochs=20, callbacks = [es], verbose=0, validation_data=([valid_frames, valid_numeric], valid_labels))\n",
    "predicted = model.predict([test_frames, test_numeric], batch_size=4)"
   ]
  },
  {
   "cell_type": "code",
   "execution_count": null,
   "metadata": {
    "id": "RMJDAOeeCQyi"
   },
   "outputs": [],
   "source": [
    "plt.rcParams['figure.figsize'] = [15, 5]"
   ]
  },
  {
   "cell_type": "markdown",
   "metadata": {
    "id": "YNU80uRdCQyn"
   },
   "source": [
    "## Score prediction accuracy"
   ]
  },
  {
   "cell_type": "code",
   "execution_count": null,
   "metadata": {
    "id": "9QWw7dO2CQyo",
    "outputId": "c7395423-7887-47be-c4a4-4666eb3ff601"
   },
   "outputs": [
    {
     "data": {
      "image/png": "[encoded data removed]",
      "text/plain": [
       "<Figure size 1080x360 with 1 Axes>"
      ]
     },
     "metadata": {
      "needs_background": "light",
      "tags": []
     },
     "output_type": "display_data"
    }
   ],
   "source": [
    "plt.plot(predicted[:,0], 'ro', label='Predicted')\n",
    "plt.plot(test_labels[:,0], 'bo', label='True')\n",
    "plt.legend(loc=\"upper left\")\n",
    "plt.title('Score predictions')\n",
    "plt.xlabel('Samples')\n",
    "plt.ylabel('Values')\n",
    "plt.show()"
   ]
  },
  {
   "cell_type": "markdown",
   "metadata": {
    "id": "uBpAAztvCQyt"
   },
   "source": [
    "## Confidence score prediction accuracy"
   ]
  },
  {
   "cell_type": "code",
   "execution_count": null,
   "metadata": {
    "id": "_l3j3Pa5CQyu",
    "outputId": "c0bc953f-bf87-44c7-df3e-2f9166b8657b"
   },
   "outputs": [
    {
     "data": {
      "image/png": "[encoded data removed]",
      "text/plain": [
       "<Figure size 1080x360 with 1 Axes>"
      ]
     },
     "metadata": {
      "needs_background": "light",
      "tags": []
     },
     "output_type": "display_data"
    }
   ],
   "source": [
    "plt.plot(predicted[:,1], 'ro', label='Predicted')\n",
    "plt.plot(test_labels[:,1], 'bo', label='True')\n",
    "plt.legend(loc=\"upper left\")\n",
    "plt.title('Confidence score predictions')\n",
    "plt.xlabel('Samples')\n",
    "plt.ylabel('Values')\n",
    "plt.show()"
   ]
  },
  {
   "cell_type": "markdown",
   "metadata": {
    "id": "unUQ6muhCQyz"
   },
   "source": [
    "# Sprint 15  \n",
    "\n",
    "We were not satisfied with the results from the previous iteration for sprint 15, and thus decided to re-visit this sprint as well and try out more parameters. The initial idea was to have and architecture where we would have an RNN layer -> Dense or CNN -> Dense or CNN. In the first iteration, similarly as for sprint 13 we did not vary the kernel width and pool strides for the different CNN layers. During this iteration, as we saw the improvement in sprint 13 we tried it for sprint 15 as well. To be more specific:    \n",
    "\n",
    "The following parameters were used for the experiments:  \n",
    "\n",
    "* the Conv2D filter sizes 8, 16, 32, 64, 256 in different orders for various layers\n",
    "* the learning rate was varied between 1e-3 and 3e-4 (these learning rate values have proven to give the best results in the past)\n",
    "* stride and kernel width were 1, 2, or 3.  \n",
    "* epoch size due to experience from previous iterations was 20 or 500  \n",
    "* batch size was kept to a very small number as it caused ResourceExhaustedError if larger.  \n",
    "\n",
    "The best performing convolutional network architecture ended up having 2 conv1d layers with different kernel widths and pool strides, which improved the result. The exact parameters can be viewed below. The model achieved a loss of 0.294.  \n",
    "\n",
    "Moreover, in the second iteration, other architectures were tried out as well. For example, an architecture with only dense layers or with only convolutional layers, however, the best performing architecture with these non-mixed layers was an recurrent neural network consisting of 3 GRU layers with different units. This architecture is also used for the implementation as it has the best result. The model here achieved a loss of 0.292."
   ]
  },
  {
   "cell_type": "code",
   "execution_count": null,
   "metadata": {
    "id": "NLWj-pw8Tu0U"
   },
   "outputs": [],
   "source": [
    "def get_split_datasets(data_dir, test_size=0.15, random_state=15):\n",
    "    all_names = [f.stem.split(\"_\")[0] for f in Path(f\"{data_dir}\").iterdir()]\n",
    "    files = set(all_names)\n",
    "    names = list(files)\n",
    "    labels = np.zeros(len(names))\n",
    "\n",
    "    train_names, test_names, y_train, y_test = train_test_split(\n",
    "        names, labels, test_size=test_size,\n",
    "        random_state=random_state)\n",
    "    return train_names, test_names\n",
    "\n",
    "def get_data_by_name(video_name, data_dir):\n",
    "    return np.load(f\"{data_dir}/{video_name}.npy\", allow_pickle=True)\n",
    "\n",
    "def get_data_instance(video_name, labels, data_dir, is_augmented=True, is_kinect = True):\n",
    "    if is_augmented:\n",
    "        data = []\n",
    "        labels = []\n",
    "        audmented_names = [p.stem for p in Path(f\"{data_dir}\").iterdir() if video_name == p.stem.split(\"_\")[0]]\n",
    "        for n in audmented_names:\n",
    "            if is_kinect:\n",
    "                d = get_data_by_name(video_name+\"_kinect\", data_dir)\n",
    "            else:\n",
    "                d = get_data_by_name(video_name, data_dir)\n",
    "            data.append(d[0])\n",
    "            labels.append(d[1])\n",
    "        data = np.array(data)\n",
    "        labels = np.array(labels)\n",
    "    else:\n",
    "        if is_kinect:\n",
    "            d = get_data_by_name(video_name+\"_kinect\", data_dir)\n",
    "        else:\n",
    "            d = get_data_by_name(video_name, data_dir)\n",
    "        data = np.array([d[0]])\n",
    "        labels = d[1]\n",
    "    return data, labels\n",
    "\n",
    "data_dir = \"kinect_input_data\"\n",
    "is_kinect = True\n",
    "labels = \"scores.csv\"\n",
    "train_names, test_names = get_split_datasets(data_dir)\n",
    "\n",
    "#Get validation set names\n",
    "validation_split = 0.1\n",
    "slice_indx = int(len(train_names) - len(train_names)*validation_split)\n",
    "validation_names = train_names[slice_indx:]\n",
    "train_names = train_names[:slice_indx]\n",
    "\n",
    "# Get data\n",
    "train_features = []\n",
    "train_labels = []\n",
    "\n",
    "test_features = []\n",
    "test_labels = []\n",
    "\n",
    "val_features = []\n",
    "val_labels = []\n",
    "\n",
    "for name in train_names:\n",
    "    data, labels = get_data_instance(name, labels, data_dir, True, is_kinect)\n",
    "    for i in range(data.shape[0]):\n",
    "        train_features.append(data[i])\n",
    "    for i in range(labels.shape[0]):\n",
    "        train_labels.append(labels[i])\n",
    "\n",
    "train_features = np.array(train_features)\n",
    "train_labels = np.array(train_labels)\n",
    "\n",
    "for name in test_names:\n",
    "    data, labels = get_data_instance(name, labels, data_dir, False, is_kinect)\n",
    "    for i in range(data.shape[0]):\n",
    "        test_features.append(data[i])\n",
    "    test_labels.append(labels)\n",
    "\n",
    "test_features = np.array(test_features)\n",
    "test_labels = np.array(test_labels)\n",
    "\n",
    "for name in validation_names:\n",
    "    data, labels = get_data_instance(name, labels, data_dir, True, is_kinect)\n",
    "    for i in range(data.shape[0]):\n",
    "        val_features.append(data[i])\n",
    "    for i in range(labels.shape[0]):\n",
    "        val_labels.append(labels[i])\n",
    "\n",
    "val_features = np.array(val_features)\n",
    "val_labels = np.array(val_labels)\n",
    "\n",
    "# Scale data\n",
    "\n",
    "#Features\n",
    "scalers = {}\n",
    "for i in range(train_features.shape[1]):\n",
    "    scalers[i] = StandardScaler()\n",
    "    train_features[:, i, :] = scalers[i].fit_transform(train_features[:, i, :])\n",
    "\n",
    "for i in range(train_features.shape[1]):\n",
    "    train_features[:, i, :] = scalers[i].transform(train_features[:, i, :])\n",
    "\n",
    "for i in range(val_features.shape[1]):\n",
    "    val_features[:, i, :] = scalers[i].transform(val_features[:, i, :])\n",
    "\n",
    "for i in range(val_features.shape[1]):\n",
    "    val_features[:, i, :] = scalers[i].transform(val_features[:, i, :])\n",
    "\n",
    "for i in range(test_features.shape[1]):\n",
    "    test_features[:, i, :] = scalers[i].transform(test_features[:, i, :])\n",
    "\n",
    "for i in range(test_features.shape[1]):\n",
    "    test_features[:, i, :] = scalers[i].transform(test_features[:, i, :])\n",
    "\n",
    "#Labels\n",
    "scaler = StandardScaler()\n",
    "train_labels = scaler.fit_transform(train_labels)\n",
    "val_labels = scaler.transform(val_labels)\n",
    "test_labels = scaler.transform(test_labels)"
   ]
  },
  {
   "cell_type": "code",
   "execution_count": null,
   "metadata": {
    "id": "4lzBvylsCQy6"
   },
   "outputs": [],
   "source": [
    "plt.rcParams['figure.figsize'] = [15, 5]"
   ]
  },
  {
   "cell_type": "code",
   "execution_count": null,
   "metadata": {
    "id": "pPbKWhsiTu0a",
    "outputId": "844837de-657b-4668-aebc-4a218caa6e5f"
   },
   "outputs": [
    {
     "name": "stdout",
     "output_type": "stream",
     "text": [
      "Model: \"sequential_19\"\n",
      "_________________________________________________________________\n",
      "Layer (type)                 Output Shape              Param #   \n",
      "=================================================================\n",
      "gru_33 (GRU)                 (None, 20, 64)            20160     \n",
      "_________________________________________________________________\n",
      "conv1d_24 (Conv1D)           (None, 20, 8)             1544      \n",
      "_________________________________________________________________\n",
      "max_pooling1d_24 (MaxPooling (None, 6, 8)              0         \n",
      "_________________________________________________________________\n",
      "conv1d_25 (Conv1D)           (None, 6, 8)              136       \n",
      "_________________________________________________________________\n",
      "max_pooling1d_25 (MaxPooling (None, 3, 8)              0         \n",
      "_________________________________________________________________\n",
      "flatten_19 (Flatten)         (None, 24)                0         \n",
      "_________________________________________________________________\n",
      "dense_31 (Dense)             (None, 512)               12800     \n",
      "_________________________________________________________________\n",
      "dropout_12 (Dropout)         (None, 512)               0         \n",
      "_________________________________________________________________\n",
      "dense_32 (Dense)             (None, 1)                 513       \n",
      "=================================================================\n",
      "Total params: 35,153\n",
      "Trainable params: 35,153\n",
      "Non-trainable params: 0\n",
      "_________________________________________________________________\n",
      "1/1 [==============================] - 0s 999us/step - loss: 0.2949\n"
     ]
    },
    {
     "data": {
      "image/png": "[encoded data removed]",
      "text/plain": [
       "<Figure size 1080x360 with 1 Axes>"
      ]
     },
     "metadata": {
      "needs_background": "light",
      "tags": []
     },
     "output_type": "display_data"
    }
   ],
   "source": [
    "def make_model():\n",
    "    model = Sequential()\n",
    "    model.add(GRU(64, input_shape=train_features.shape[1:], return_sequences=True))\n",
    "    model.add(Conv1D(8, (3), padding=\"same\", activation=\"relu\"))\n",
    "    model.add(MaxPooling1D(3))\n",
    "    model.add(Conv1D(8, (2), padding=\"same\", activation=\"relu\"))\n",
    "    model.add(MaxPooling1D(2))\n",
    "    model.add(Flatten())\n",
    "    model.add(Dense(512))\n",
    "    model.add(Dropout(0.2))\n",
    "    model.add(Dense(1))\n",
    "    return model\n",
    "\n",
    "model = make_model()\n",
    "model.summary()\n",
    "model.compile(loss='mean_absolute_error', optimizer = Adam(1e-3))\n",
    "es = EarlyStopping(monitor='val_loss', patience=10, verbose=0, restore_best_weights=True)\n",
    "model.fit(train_features, train_labels, batch_size=16, epochs=60, callbacks = [es], verbose=0, validation_data=(val_features, val_labels))\n",
    "baseline_results = model.evaluate(test_features, test_labels)\n",
    "\n",
    "predicted = model.predict(test_features, batch_size=16)\n",
    "\n",
    "plt.plot(predicted, 'ro', label='Predicted')\n",
    "plt.plot(test_labels, 'bo', label='True')\n",
    "plt.legend(loc=\"upper left\")\n",
    "plt.title('Predictions')\n",
    "plt.show()"
   ]
  },
  {
   "cell_type": "code",
   "execution_count": null,
   "metadata": {
    "id": "2tX6cHfJTu0h",
    "outputId": "2db7f58a-4cec-46fc-d78c-c55b00a653a5"
   },
   "outputs": [
    {
     "name": "stdout",
     "output_type": "stream",
     "text": [
      "Model: \"sequential_18\"\n",
      "_________________________________________________________________\n",
      "Layer (type)                 Output Shape              Param #   \n",
      "=================================================================\n",
      "gru_30 (GRU)                 (None, 20, 64)            20160     \n",
      "_________________________________________________________________\n",
      "gru_31 (GRU)                 (None, 20, 32)            9408      \n",
      "_________________________________________________________________\n",
      "gru_32 (GRU)                 (None, 20, 8)             1008      \n",
      "_________________________________________________________________\n",
      "flatten_18 (Flatten)         (None, 160)               0         \n",
      "_________________________________________________________________\n",
      "dense_30 (Dense)             (None, 1)                 161       \n",
      "=================================================================\n",
      "Total params: 30,737\n",
      "Trainable params: 30,737\n",
      "Non-trainable params: 0\n",
      "_________________________________________________________________\n",
      "1/1 [==============================] - 0s 1ms/step - loss: 0.2929\n"
     ]
    },
    {
     "data": {
      "image/png": "[encoded data removed]",
      "text/plain": [
       "<Figure size 1080x360 with 1 Axes>"
      ]
     },
     "metadata": {
      "needs_background": "light",
      "tags": []
     },
     "output_type": "display_data"
    }
   ],
   "source": [
    "def make_model2():\n",
    "    model = Sequential()\n",
    "    model.add(Input(shape=train_features.shape[1:]))\n",
    "    model.add(GRU(64, return_sequences=True))\n",
    "    model.add(GRU(32, return_sequences=True))\n",
    "    model.add(GRU(8, return_sequences=True))\n",
    "    model.add(Flatten())\n",
    "    model.add(Dense(1))\n",
    "    return model\n",
    "\n",
    "model2 = make_model2()\n",
    "model2.summary()\n",
    "model2.compile(loss='mean_absolute_error', optimizer = Adam(1e-3))\n",
    "es = EarlyStopping(monitor='val_loss', patience=10, verbose=0, restore_best_weights=True)\n",
    "model2.fit(train_features, train_labels, batch_size=8, epochs=60, callbacks = [es], verbose=0, validation_data=(val_features, val_labels))\n",
    "baseline_results2 = model2.evaluate(test_features, test_labels)\n",
    "\n",
    "predicted2 = model2.predict(test_features, batch_size=8)\n",
    "\n",
    "plt.plot(predicted2, 'ro', label='Predicted')\n",
    "plt.plot(test_labels, 'bo', label='True')\n",
    "plt.legend(loc=\"upper left\")\n",
    "plt.title('Predictions')\n",
    "plt.show()"
   ]
  }
 ],
 "metadata": {
  "colab": {
   "collapsed_sections": [],
   "provenance": []
  },
  "kernelspec": {
   "display_name": "Python 3 (ipykernel)",
   "language": "python",
   "name": "python3"
  },
  "language_info": {
   "codemirror_mode": {
    "name": "ipython",
    "version": 3
   },
   "file_extension": ".py",
   "mimetype": "text/x-python",
   "name": "python",
   "nbconvert_exporter": "python",
   "pygments_lexer": "ipython3",
   "version": "3.10.7"
  }
 },
 "nbformat": 4,
 "nbformat_minor": 1
}
