{
 "cells": [
  {
   "cell_type": "markdown",
   "metadata": {
    "id": "RbiEnTN1KtVQ"
   },
   "source": [
    "#Tree - based Classifier Iterations"
   ]
  },
  {
   "cell_type": "markdown",
   "metadata": {
    "id": "oMsj_I5H1Buk"
   },
   "source": [
    "Feature selection was done the same way as in previous sprints and used the same methods to select different feature groups (FMS, NASM, time or combinations of them). For this iteration, several classification methods were tested, therefore not all the results will be present. Instead, for feature selection method, a best performing model from previous sprint will be compared with best performing models from this sprint."
   ]
  },
  {
   "cell_type": "markdown",
   "metadata": {
    "id": "En7OyqW21Buq"
   },
   "source": [
    "## 1. Selecting feature groups\n",
    "\n",
    "\n",
    "    \n",
    "| Method            | Feature group  | Accuracy   | Precision | Recall | F1 score |\n",
    "|-------------------|--------|------------|-----------|-------------|-------------|\n",
    "| LDA               |  FMS + NASM + time | 0.569      | 0.56      | 0.57       | 0.57        |\n",
    "| DecissionTreeClassifier (max depth = 9)|  FMS + NASM + time   | 0.524       | 0.51      | 0.52        | 0.51      |\n",
    "| **RandomForestClassifier (max depth = 10, max_features=33)**|  FMS + NASM + time    | **0.615**       | 0.61      | 0.6        | 0.61      |\n",
    "| GradientBoostingClassifier (max depth = 10, learning rate = 0.1)|  FMS + NASM   | 0.605       | 0.6      | 0.61        | 0.6      |"
   ]
  },
  {
   "cell_type": "markdown",
   "metadata": {
    "id": "RJE1nmi51Buu"
   },
   "source": [
    "## 2. Removing right value of symmetrical pair from FMS features\n",
    "| Method            | Feature group  | Accuracy   | Precision | Recall | F1 score |\n",
    "|-------------------|--------|------------|-----------|-------------|-------------|\n",
    "| LDA               |  FMS + NASM + time | 0.567      | 0.56      | 0.56       | 0.56        |\n",
    "| DecissionTreeClassifier (max depth = 10)|  FMS + NASM    | 0.532       | 0.52      | 0.53        | 0.53      |\n",
    "| **RandomForestClassifier (max depth = 10, max_features=25)**|  FMS + NASM    | **0.617**       | 0.6      | 0.62        | 0.6      |\n",
    "| GradientBoostingClassifier (max depth = 10, learning rate = 0.02)|  FMS + NASM   | 0.589       | 0.58      | 0.59        | 0.58      |"
   ]
  },
  {
   "cell_type": "markdown",
   "metadata": {
    "id": "YF_gn0dQ1Buy"
   },
   "source": [
    "## 3. Removing left value of symmetrical pair from FMS features\n",
    "\n",
    "| Method            | Feature group  | Accuracy   | Precision | Recall | F1 score |\n",
    "|-------------------|--------|------------|-----------|-------------|-------------|\n",
    "| LDA               |  FMS + NASM  | 0.564      | 0.56      | 0.56       | 0.56        |\n",
    "| DecissionTreeClassifier (max depth = 9)|  FMS + NASM +  time   | 0.5       | 0.45      | 0.5        | 0.47      |\n",
    "| **RandomForestClassifier (max depth = 10, max_features=23)**|  FMS + NASM    | **0.613**       | 0.58      | 0.61        | 0.59      |\n",
    "| GradientBoostingClassifier (max depth = 10, learning rate = 0.01)|  FMS + NASM   | 0.588       | 0.57      | 0.59        | 0.57      |"
   ]
  },
  {
   "cell_type": "markdown",
   "metadata": {
    "id": "llVe3bQF1Bu1"
   },
   "source": [
    "## 4. Removing right value of symmetrical pair from NASM features\n",
    "\n",
    "| Method            | Feature group  | Accuracy   | Precision | Recall | F1 score |\n",
    "|-------------------|--------|------------|-----------|-------------|-------------|\n",
    "| LDA               |  FMS + NASM + time | 0.543      | 0.54      | 0.54       | 0.54        |\n",
    "| DecissionTreeClassifier (max depth = 7)|  NASM   | 0.491       | 0.47      | 0.49        | 0.48      |\n",
    "| **RandomForestClassifier (max depth = 10, max_features=26)**|  FMS + NASM + time   | **0.615**       | 0.59      | 0.61        | 0.59      |\n",
    "| GradientBoostingClassifier (max depth = 10, learning rate = 0.1)|  FMS + NASM   | 0.58       | 0.57      | 0.58        | 0.57      |"
   ]
  },
  {
   "cell_type": "markdown",
   "metadata": {
    "id": "WGtcu-uJ1Bu6"
   },
   "source": [
    "## 5. Removing left value of symmetrical pair from NASM features\n",
    "\n",
    "| Method            | Feature group  | Accuracy   | Precision | Recall | F1 score |\n",
    "|-------------------|--------|------------|-----------|-------------|-------------|\n",
    "| LDA               |  FMS + NASM | 0.564      | 0.56      | 0.56       | 0.56        |\n",
    "| DecissionTreeClassifier (max depth = 10)|  FMS + NASM + time   | 0.506       | 0.51      | 0.51        | 0.5      |\n",
    "| RandomForestClassifier (max depth = 10, max_features=24)|  FMS + NASM    | 0.599       | 0.59      | 0.6        | 0.58      |\n",
    "| GradientBoostingClassifier (max depth = 10, learning rate = 0.1)|  FMS + NASM   | 0.562       | 0.56      | 0.56        | 0.56      |"
   ]
  },
  {
   "cell_type": "markdown",
   "metadata": {
    "id": "jdMf9Eq81Bu9"
   },
   "source": [
    "## 6. Comparing symmetrical pair of FMS correlation to Weakest Link and removing pair value that has lower correlation\n",
    "| Method            | Feature group  | Accuracy   | Precision | Recall | F1 score |\n",
    "|-------------------|--------|------------|-----------|-------------|-------------|\n",
    "| LDA               |  FMS + NASM | 0.569      | 0.56      | 0.57       | 0.56        |\n",
    "| DecissionTreeClassifier (max depth = 10)|  FMS + NASM   | 0.529       | 0.52      | 0.53        | 0.52      |\n",
    "| **RandomForestClassifier (max depth = 10, max_features=24)**|  FMS + NASM + time   | **0.619**       | 0.6      | 0.62        | 0.6      |\n",
    "| GradientBoostingClassifier (max depth = 10, learning rate = 0.1)|  FMS + NASM   | 0.583       | 0.56      | 0.58        | 0.57      |"
   ]
  },
  {
   "cell_type": "markdown",
   "metadata": {
    "id": "0bhxl59E1BvB"
   },
   "source": [
    "## 7. Comparing symmetrical pair of NASM correlation to Weakest Link and removing pair value that has lower correlation\n",
    "| Method            | Feature group  | Accuracy   | Precision | Recall | F1 score |\n",
    "|-------------------|--------|------------|-----------|-------------|-------------|\n",
    "| LDA               |  FMS + NASM + time | 0.545      | 0.55      | 0.54       | 0.54        |\n",
    "| DecissionTreeClassifier (max depth = 9)|  NASM + time   | 0.523       | 0.49      | 0.55        | 0.5|\n",
    "| RandomForestClassifier (max depth = 10, max_features=19)|  FMS + NASM   | 0.596       | 0.58      | 0.6        | 0.57      |\n",
    "| GradientBoostingClassifier (max depth = 10, learning rate = 0.2)|  FMS + NASM   | 0.565       | 0.57      | 0.57        | 0.55      |"
   ]
  },
  {
   "cell_type": "markdown",
   "metadata": {
    "id": "2g60tZGC1BvE"
   },
   "source": [
    "## 8. Combining two previous selections (selecting pair values that have high correlation with Weakest Link from both, FMS and NASM)\n",
    "\n",
    "| Method            | Feature group  | Accuracy   | Precision | Recall | F1 score |\n",
    "|-------------------|--------|------------|-----------|-------------|-------------|\n",
    "| LDA               |  FMS + NASM | 0.525      | 0.52      | 0.53       | 0.52        |\n",
    "| DecissionTreeClassifier (max depth = 9)|  NASM + time + time   | 0.518       | 0.51      | 0.51        | 0.5|\n",
    "| RandomForestClassifier (max depth = 10, max_features=16)|  FMS + NASM + time  | 0.597       | 0.57      | 0.6        | 0.57      |\n",
    "| GradientBoostingClassifier (max depth = 10, learning rate = 0.1)|  FMS + NASM   | 0.564       | 0.56      | 0.56        | 0.56      |"
   ]
  },
  {
   "cell_type": "markdown",
   "metadata": {
    "id": "F4fjTIHU1BvG"
   },
   "source": [
    "The best model according to the tests is RandomForestClassifier with max_depth set to 10, max_features set to 24, all features selected with removal of less correlated to Weakest Link pair value from FMS symmetrical pairs."
   ]
  },
  {
   "cell_type": "code",
   "execution_count": null,
   "metadata": {
    "id": "nyeGYWSo1BvK"
   },
   "outputs": [],
   "source": [
    "import pandas as pd\n",
    "import numpy as np\n",
    "import matplotlib\n",
    "import matplotlib.pyplot as plt\n",
    "from sklearn.model_selection import train_test_split\n",
    "from sklearn.metrics import accuracy_score\n",
    "from sklearn.discriminant_analysis import LinearDiscriminantAnalysis, QuadraticDiscriminantAnalysis\n",
    "from sklearn.model_selection import train_test_split\n",
    "from sklearn.tree import DecisionTreeClassifier, export_graphviz\n",
    "from sklearn.ensemble import RandomForestClassifier, GradientBoostingClassifier, BaggingClassifier\n",
    "from sklearn.metrics import confusion_matrix, mean_squared_error\n",
    "from sklearn import neighbors\n",
    "from sklearn import metrics\n",
    "import warnings\n",
    "warnings.filterwarnings('ignore')"
   ]
  },
  {
   "cell_type": "code",
   "execution_count": null,
   "metadata": {
    "id": "ZijkIX0Q1BvT"
   },
   "outputs": [],
   "source": [
    "train_set = pd.read_csv('train_set.csv')\n",
    "test_set = pd.read_csv('test_set.csv')\n",
    "train_set.drop(train_set.columns[[0]], axis=1, inplace=True)\n",
    "test_set.drop(test_set.columns[[0]], axis=1, inplace=True)\n",
    "\n",
    "# Dropping LeftHeelRises and RightHeelRises as these features only have 1 or 2 records in the\n",
    "# entire dataset\n",
    "train_set = train_set[train_set.WeakLink_label != 'LeftHeelRises']\n",
    "train_set = train_set[train_set.WeakLink_label != 'RightHeelRises']\n",
    "test_set = test_set[test_set.WeakLink_label != 'LeftHeelRises']\n",
    "test_set = test_set[test_set.WeakLink_label != 'RightHeelRises']\n",
    "\n",
    "# FMS symmetrical pairs, removal of lower correlation to Weakest Link value\n",
    "features_names = [\n",
    "      'No_1_Angle_Deviation', 'No_2_Angle_Deviation',\n",
    "       'No_3_Angle_Deviation', 'No_5_Angle_Deviation', 'No_6_Angle_Deviation',\n",
    "       'No_8_Angle_Deviation', 'No_12_Angle_Deviation',\n",
    "       'No_13_Angle_Deviation', 'No_1_NASM_Deviation', 'No_2_NASM_Deviation',\n",
    "       'No_3_NASM_Deviation', 'No_4_NASM_Deviation', 'No_5_NASM_Deviation',\n",
    "       'No_6_NASM_Deviation', 'No_7_NASM_Deviation', 'No_8_NASM_Deviation',\n",
    "       'No_9_NASM_Deviation', 'No_10_NASM_Deviation', 'No_11_NASM_Deviation',\n",
    "       'No_12_NASM_Deviation', 'No_13_NASM_Deviation', 'No_14_NASM_Deviation',\n",
    "       'No_15_NASM_Deviation', 'No_16_NASM_Deviation', 'No_17_NASM_Deviation',\n",
    "       'No_18_NASM_Deviation', 'No_19_NASM_Deviation', 'No_20_NASM_Deviation',\n",
    "       'No_21_NASM_Deviation', 'No_22_NASM_Deviation', 'No_23_NASM_Deviation',\n",
    "       'No_24_NASM_Deviation', 'No_25_NASM_Deviation', 'No_1_Time_Deviation',\n",
    "       'No_2_Time_Deviation']\n",
    "label_name = 'WeakLink_label'\n",
    "\n",
    "# Set up subsets for model testing\n",
    "X_train = train_set.loc[:, features_names]\n",
    "y_train = train_set.loc[:, label_name]\n",
    "\n",
    "X_test = test_set.loc[:, features_names]\n",
    "y_test = test_set.loc[:, label_name]"
   ]
  },
  {
   "cell_type": "code",
   "execution_count": null,
   "metadata": {
    "id": "7LEqelMi1Bvd",
    "outputId": "f39b1e1c-dda2-4ac2-c45a-7a43e9443cde"
   },
   "outputs": [
    {
     "name": "stdout",
     "output_type": "stream",
     "text": [
      "Depth with best results:  10\n",
      "Accuracy:  0.5238853503184714\n",
      "                              precision    recall  f1-score   support\n",
      "\n",
      "        ExcessiveForwardLean       0.48      0.45      0.47        31\n",
      "                 ForwardHead       0.67      0.54      0.60        37\n",
      "          LeftArmFallForward       0.52      0.64      0.58       182\n",
      " LeftAsymmetricalWeightShift       0.57      0.36      0.44        22\n",
      "        LeftKneeMovesOutward       0.00      0.00      0.00        17\n",
      "       LeftShoulderElevation       0.17      0.12      0.14        17\n",
      "         RightArmFallForward       0.48      0.47      0.47       146\n",
      "RightAsymmetricalWeightShift       1.00      0.12      0.22         8\n",
      "        RightKneeMovesInward       0.00      0.00      0.00        13\n",
      "       RightKneeMovesOutward       0.91      0.86      0.88        69\n",
      "      RightShoulderElevation       0.39      0.47      0.43        86\n",
      "\n",
      "                    accuracy                           0.52       628\n",
      "                   macro avg       0.47      0.37      0.38       628\n",
      "                weighted avg       0.52      0.52      0.51       628\n",
      "\n"
     ]
    }
   ],
   "source": [
    "#DecisionTreeClassifier\n",
    "#\n",
    "#\n",
    "# This method helps in selecting best max_depth for the Decision Tree classifier\n",
    "# by trying out all the max_depth values in specified range and looking for highest\n",
    "# accuracy score\n",
    "bm = 0\n",
    "best_tree = None\n",
    "for depth in range(1, 11):\n",
    "    t = DecisionTreeClassifier(max_depth=depth)\n",
    "    t.fit(X_train, y_train)\n",
    "    pred = t.predict(X_test)\n",
    "    cm = np.mean(y_test == pred)\n",
    "    if (cm > bm):\n",
    "        bm = cm\n",
    "        best_tree = (depth, cm, t, pred)\n",
    "depth, cm, t, bestpred = best_tree\n",
    "print('Depth with best results: ', depth)\n",
    "print('Accuracy: ', cm)\n",
    "print(metrics.classification_report(y_test, bestpred))"
   ]
  },
  {
   "cell_type": "code",
   "execution_count": null,
   "metadata": {
    "id": "NiL-pdfM1Bvm",
    "outputId": "60abc2dc-b10c-4fac-8437-3cdbea6362b3"
   },
   "outputs": [
    {
     "name": "stdout",
     "output_type": "stream",
     "text": [
      "feature max with best results:  18\n",
      "Accuracy:  0.6226114649681529\n",
      "                              precision    recall  f1-score   support\n",
      "\n",
      "        ExcessiveForwardLean       0.46      0.39      0.42        31\n",
      "                 ForwardHead       0.75      0.57      0.65        37\n",
      "          LeftArmFallForward       0.60      0.74      0.66       182\n",
      " LeftAsymmetricalWeightShift       0.80      0.55      0.65        22\n",
      "        LeftKneeMovesOutward       0.00      0.00      0.00        17\n",
      "       LeftShoulderElevation       1.00      0.06      0.11        17\n",
      "         RightArmFallForward       0.59      0.63      0.61       146\n",
      "RightAsymmetricalWeightShift       0.00      0.00      0.00         8\n",
      "        RightKneeMovesInward       0.00      0.00      0.00        13\n",
      "       RightKneeMovesOutward       0.98      0.90      0.94        69\n",
      "      RightShoulderElevation       0.49      0.65      0.56        86\n",
      "\n",
      "                    accuracy                           0.62       628\n",
      "                   macro avg       0.52      0.41      0.42       628\n",
      "                weighted avg       0.61      0.62      0.60       628\n",
      "\n"
     ]
    }
   ],
   "source": [
    "#RandomForestClassifier\n",
    "#\n",
    "#\n",
    "# This method works similary to the previous one\n",
    "# except here, the optimal max_features value is tested\n",
    "# by selecting values in a range\n",
    "\n",
    "bm = 0\n",
    "best_tree = None\n",
    "for f in range(1, len(features_names)):\n",
    "    t = RandomForestClassifier(max_depth=10, max_features=f)\n",
    "    t.fit(X_train, y_train)\n",
    "    pred = t.predict(X_test)\n",
    "    cm = np.mean(y_test == pred)\n",
    "    if (cm > bm):\n",
    "        bm = cm\n",
    "        best_tree = (f, cm, t, pred)\n",
    "f, cm, t, bestpred = best_tree\n",
    "print('feature max with best results: ', f)\n",
    "print('Accuracy: ', cm)\n",
    "print(metrics.classification_report(y_test, bestpred))"
   ]
  },
  {
   "cell_type": "code",
   "execution_count": null,
   "metadata": {
    "id": "Fm8DQFZG1Bvt",
    "outputId": "72298a0b-abb1-47dc-87cf-0336769f4844"
   },
   "outputs": [
    {
     "name": "stdout",
     "output_type": "stream",
     "text": [
      "best learning rate:  0.1\n",
      "Accuracy:  0.5828025477707006\n",
      "                              precision    recall  f1-score   support\n",
      "\n",
      "        ExcessiveForwardLean       0.35      0.26      0.30        31\n",
      "                 ForwardHead       0.70      0.57      0.63        37\n",
      "          LeftArmFallForward       0.59      0.70      0.64       182\n",
      " LeftAsymmetricalWeightShift       0.41      0.41      0.41        22\n",
      "         LeftKneeMovesInward       0.00      0.00      0.00         0\n",
      "        LeftKneeMovesOutward       0.17      0.06      0.09        17\n",
      "       LeftShoulderElevation       0.25      0.12      0.16        17\n",
      "         RightArmFallForward       0.55      0.62      0.58       146\n",
      "RightAsymmetricalWeightShift       0.00      0.00      0.00         8\n",
      "        RightKneeMovesInward       0.00      0.00      0.00        13\n",
      "       RightKneeMovesOutward       0.89      0.86      0.87        69\n",
      "      RightShoulderElevation       0.59      0.56      0.57        86\n",
      "\n",
      "                    accuracy                           0.58       628\n",
      "                   macro avg       0.37      0.35      0.35       628\n",
      "                weighted avg       0.56      0.58      0.57       628\n",
      "\n"
     ]
    }
   ],
   "source": [
    "#GradientBoostingClassifier\n",
    "#\n",
    "#\n",
    "# This method selects best learning rate by testing several\n",
    "# models with different learning rates.\n",
    "learn_rate = [0.01, 0.02, 0.1, 0.2]\n",
    "bm = 0\n",
    "best_tree = None\n",
    "for lr in range(0, len(learn_rate)):\n",
    "    boost = GradientBoostingClassifier(n_estimators = 500, \n",
    "                                           learning_rate = learn_rate[lr], \n",
    "                                           max_depth = 10, \n",
    "                                           random_state = 1)\n",
    "    boost.fit(X_train, y_train)\n",
    "    pred = boost.predict(X_test)\n",
    "    cm = np.mean(y_test == pred)\n",
    "    if (cm > bm):\n",
    "        bm = cm\n",
    "        best_tree = (learn_rate[lr], cm, boost, pred)\n",
    "lr, cm, t, bestpred = best_tree\n",
    "print('best learning rate: ', lr)\n",
    "print('Accuracy: ', cm)\n",
    "print(metrics.classification_report(y_test, bestpred)) "
   ]
  },
  {
   "cell_type": "markdown",
   "metadata": {
    "id": "1JNVgRK-LZug"
   },
   "source": [
    "# Tree - based Regressor Iterations"
   ]
  },
  {
   "cell_type": "markdown",
   "metadata": {
    "id": "z4BW7J1qLh4D"
   },
   "source": [
    "MSE = Mean Squared Error  \n",
    "MAE = Mean Absolute Error  \n",
    "R2 = R-Squared  \n",
    "\n",
    "poly_reg = PolynomialFeatures on Linear Regression  \n",
    "dec_trees = DecisionTreeRegressor()  \n",
    "rand_forest = RandomForestRegressor()  \n",
    "grad_boost = GradientBoostingRegressor() "
   ]
  },
  {
   "cell_type": "markdown",
   "metadata": {
    "id": "cDtKWYkAL7BE"
   },
   "source": [
    "## 1. Removing right value of symmetrical pairs \n",
    "\n",
    "    \n",
    "| Groups            | value  | poly_reg   | dec_trees | rand_forest | grad_boost |\n",
    "|-------------------|--------|------------|-----------|-------------|------------|\n",
    "| FMS               |  MSE   | 0.03       | 0.04      | 0.03        | 0.03       |\n",
    "| FMS               |  MAE   | 0.13       | 0.14      | 0.13        | 0.13       |\n",
    "| FMS               |  R2    | 0.45       | 0.33      | 0.49        | 0.46       |\n",
    "| FMS + time        |  MSE   | 0.03       | 0.04      | 0.03        | 0.03       |\n",
    "| FMS + time        |  MAE   | 0.13       | 0.15      | 0.13        | 0.13       |\n",
    "| FMS + time        |  R2    | 0.47       | 0.29      | 0.49        | 0.47       |\n",
    "| NASM              |  MSE   | 0.02       | 0.03      | 0.02        | 0.02       |\n",
    "| NASM              |  MAE   | 0.11       | 0.13      | 0.11        | 0.11       |\n",
    "| NASM              |  R2    | 0.62       | 0.44      | 0.64        | 0.60       |\n",
    "| **NASM + time**       |  MSE   | 0.02       | 0.03      | **0.02**        | 0.02       |\n",
    "| **NASM + time**       |  MAE   | 0.11       | 0.13      | **0.10**        | 0.11       |\n",
    "| **NASM + time**       |  R2    | 0.62       | 0.44      | **0.64**        | 0.61       |"
   ]
  },
  {
   "cell_type": "markdown",
   "metadata": {
    "id": "56V1JHq8L7Fe"
   },
   "source": [
    "## 2. Removing left value of symmetrical pairs  \n",
    "    \n",
    "\n",
    "| Groups            | value  | poly_reg   | dec_trees | rand_forest | grad_boost |\n",
    "|-------------------|--------|------------|-----------|-------------|------------|\n",
    "| FMS               |  MSE   | 0.03       | 0.04      | 0.03        | 0.03       |\n",
    "| FMS               |  MAE   | 0.14       | 0.15      | 0.13        | 0.13       |\n",
    "| FMS               |  R2    | 0.44       | 0.33      | 0.47        | 0.47       |\n",
    "| FMS + time        |  MSE   | 0.03       | 0.04      | 0.03        | 0.03       |\n",
    "| FMS + time        |  MAE   | 0.14       | 0.14      | 0.13        | 0.13       |\n",
    "| FMS + time        |  R2    | 0.46       | 0.34      | 0.49        | 0.46       |\n",
    "| NASM              |  MSE   | 0.02       | 0.03      | 0.02        | 0.02       |\n",
    "| NASM              |  MAE   | 0.11       | 0.12      | 0.10        | 0.10       |\n",
    "| NASM              |  R2    | 0.62       | 0.48      | 0.66        | 0.66       |\n",
    "| **NASM + time**       |  MSE   | 0.02       | 0.03      | **0.02**        | 0.02       |\n",
    "| **NASM + time**       |  MAE   | 0.11       | 0.12      | **0.10**        | 0.10       |\n",
    "| **NASM + time**       |  R2    | 0.62       | 0.45      | **0.68**        | 0.66       |"
   ]
  },
  {
   "cell_type": "markdown",
   "metadata": {
    "id": "8_RFkk-JL7JU"
   },
   "source": [
    "## 3. Keep higher colerration feature (to AimoScore) from symmetrical pairs\n",
    "\n",
    "\n",
    "| Groups            | value  | poly_reg   | dec_trees | rand_forest | grad_boost |\n",
    "|-------------------|--------|------------|-----------|-------------|------------|\n",
    "| FMS               |  MSE   | 0.03       | 0.04      | 0.03        | 0.03       |\n",
    "| FMS               |  MAE   | 0.13       | 0.14      | 0.13        | 0.13       |\n",
    "| FMS               |  R2    | 0.50       | 0.35      | 0.52        | 0.48       |\n",
    "| FMS + time        |  MSE   | 0.03       | 0.04      | 0.03        | 0.03       |\n",
    "| FMS + time        |  MAE   | 0.13       | 0.14      | 0.12        | 0.13       |\n",
    "| FMS + time        |  R2    | 0.51       | 0.37      | 0.52        | 0.47       |\n",
    "| NASM              |  MSE   | 0.02       | 0.03      | 0.02        | 0.02       |\n",
    "| NASM              |  MAE   | 0.11       | 0.12      | 0.10        | 0.10       |\n",
    "| NASM              |  R2    | 0.64       | 0.46      | 0.66        | 0.66       |\n",
    "| **NASM + time**       |  MSE   | 0.02       | 0.03      | **0.02**        | 0.02       |\n",
    "| **NASM + time**       |  MAE   | 0.11       | 0.12      | **0.10**        | 0.10       |\n",
    "| **NASM + time**       |  R2    | 0.63       | 0.46      | **0.68**        | 0.66       |"
   ]
  },
  {
   "cell_type": "markdown",
   "metadata": {
    "id": "7jc2ofvML7aB"
   },
   "source": [
    "## 5. Individual group selection without modifications\n",
    "\n",
    "    \n",
    "| Groups            | value  | poly_reg   | dec_trees | rand_forest | grad_boost |\n",
    "|-------------------|--------|------------|-----------|-------------|------------|\n",
    "| FMS               |  MSE   | 0.17       | 0.04      | 0.03        | 0.03       |\n",
    "| FMS               |  MAE   | 0.13       | 0.15      | 0.12        | 0.13       |\n",
    "| FMS               |  R2    | 0.50       | 0.28      | 0.54        | 0.50       |\n",
    "| NASM              |  MSE   | 0.16       | 0.03      | 0.02        | 0.02       |\n",
    "| NASM              |  MAE   | 0.11       | 0.12      | 0.10        | 0.10       |\n",
    "| NASM              |  R2    | 0.57       | 0.48      | 0.67        | 0.67       |\n",
    "| FMS + NASM        |  MSE   | 0.18       | 0.03      | 0.02        | 0.02       |\n",
    "| FMS + NASM        |  MAE   | 0.13       | 0.12      | 0.10        | 0.10       |\n",
    "| FMS + NASM        |  R2    | 0.41       | 0.49      | 0.68        | 0.66       |\n",
    "| **FMS + NASM + time** |  MSE   | 0.19       | 0.03      | **0.02**        | 0.02       |\n",
    "| **FMS + NASM + time** |  MAE   | 0.14       | 0.12      | **0.10**        | 0.10       |\n",
    "| **FMS + NASM + time** |  R2    | 0.35       | 0.47      | **0.68**        | 0.66       |\n",
    "| FMS + time        |  MSE   | 0.18       | 0.04      | 0.03        | 0.03       |\n",
    "| FMS + time        |  MAE   | 0.14       | 0.15      | 0.12        | 0.12       |\n",
    "| FMS + time        |  R2    | 0.45       | 0.30      | 0.54        | 0.52       |\n",
    "| NASM + time       |  MSE   | 0.16       | 0.03      | 0.02        | 0.02       |\n",
    "| NASM + time       |  MAE   | 0.12       | 0.12      | 0.10        | 0.10       |\n",
    "| NASM + time       |  R2    | 0.57       | 0.48      | 0.67        | 0.66       |"
   ]
  },
  {
   "cell_type": "markdown",
   "metadata": {
    "id": "xuF8KBkVL7dr"
   },
   "source": [
    "Overall best performing model is when we \"Keep higher colerration feature (to AimoScore) from symmetrical pairs\" or when we test the \"Individual group selection without modifications\" "
   ]
  },
  {
   "cell_type": "markdown",
   "metadata": {
    "id": "KlJJiy77L7kx"
   },
   "source": [
    "The new tree implementations for \"Individual group selection without modifications\" were performed as follows:"
   ]
  },
  {
   "cell_type": "code",
   "execution_count": null,
   "metadata": {
    "id": "iQZJwxwLMecf"
   },
   "outputs": [],
   "source": [
    "import sys\n",
    "import pandas as pd\n",
    "import numpy as np\n",
    "import matplotlib\n",
    "import matplotlib.pyplot as plt\n",
    "import seaborn as sns\n",
    "from sklearn import linear_model\n",
    "from sklearn.model_selection import train_test_split\n",
    "from sklearn.metrics import mean_squared_error, r2_score\n",
    "import sklearn.metrics as metrics\n",
    "from sklearn.preprocessing import PolynomialFeatures\n",
    "from sklearn import linear_model\n",
    "from sklearn.tree import DecisionTreeRegressor, DecisionTreeClassifier, export_graphviz\n",
    "from sklearn.ensemble import RandomForestRegressor, GradientBoostingRegressor\n",
    "from sklearn.metrics import confusion_matrix, mean_squared_error\n",
    "from sklearn.model_selection import train_test_split"
   ]
  },
  {
   "cell_type": "code",
   "execution_count": null,
   "metadata": {
    "id": "ymJjWDsFMelB"
   },
   "outputs": [],
   "source": [
    "data = pd.read_csv('sample_data/data.csv', decimal=',')\n",
    "data = data.sample(frac=1).reset_index(drop=True)"
   ]
  },
  {
   "cell_type": "code",
   "execution_count": null,
   "metadata": {
    "colab": {
     "base_uri": "https://localhost:8080/",
     "height": 117
    },
    "id": "zs_JFPXjMeqF",
    "outputId": "557c291d-c88e-407c-a7d5-d06ff9ad009b"
   },
   "outputs": [
    {
     "name": "stdout",
     "output_type": "stream",
     "text": [
      "\n",
      " FMS + NASM + time \n",
      "\n",
      "Mean squared error: 0.03\n",
      "Mean absolute error: 0.12\n",
      "R2: 0.47\n"
     ]
    }
   ],
   "source": [
    "X = data.iloc[:, 1:41]\n",
    "y = data.iloc[:, 0]\n",
    "\n",
    "X_train, X_test, y_train, y_test = train_test_split(X, y, train_size = 0.33, random_state = 0)\n",
    "\n",
    "model_reg = DecisionTreeRegressor(max_depth=4)\n",
    "model_reg.fit(X_train, y_train)\n",
    "\n",
    "prediction = model_reg.predict(X_test)\n",
    "\n",
    "mse = mean_squared_error(y_test, prediction)\n",
    "mae = metrics.mean_absolute_error(y_test, prediction)\n",
    "rss = np.mean((prediction - y_test) ** 2)\n",
    "r2 = r2_score(y_test, prediction)\n",
    "print('\\n FMS + NASM + time \\n')\n",
    "print('Mean squared error: %.2f' % mse)\n",
    "print('Mean absolute error: %.2f' % mae)\n",
    "print('R2: %.2f' % r2)"
   ]
  },
  {
   "cell_type": "code",
   "execution_count": null,
   "metadata": {
    "colab": {
     "base_uri": "https://localhost:8080/",
     "height": 117
    },
    "id": "0P60fzweMesk",
    "outputId": "15577137-ca73-415f-8107-ea2df78cc3f9"
   },
   "outputs": [
    {
     "name": "stdout",
     "output_type": "stream",
     "text": [
      "\n",
      " FMS + NASM + time \n",
      "\n",
      "Mean squared error: 0.02\n",
      "Mean absolute error: 0.10\n",
      "R2: 0.68\n"
     ]
    }
   ],
   "source": [
    "X = data.iloc[:, 1:41]\n",
    "y = data.iloc[:, 0]\n",
    "\n",
    "X_train, X_test, y_train, y_test = train_test_split(X, y, train_size = 0.33, random_state = 0)\n",
    "\n",
    "model_reg = RandomForestRegressor(max_features = 11, random_state = 1)\n",
    "model_reg.fit(X_train, y_train)\n",
    "\n",
    "prediction = model_reg.predict(X_test)\n",
    "\n",
    "mse = mean_squared_error(y_test, prediction)\n",
    "mae = metrics.mean_absolute_error(y_test, prediction)\n",
    "rss = np.mean((prediction - y_test) ** 2)\n",
    "r2 = r2_score(y_test, prediction)\n",
    "print('\\n FMS + NASM + time \\n')\n",
    "print('Mean squared error: %.2f' % mse)\n",
    "print('Mean absolute error: %.2f' % mae)\n",
    "print('R2: %.2f' % r2)"
   ]
  },
  {
   "cell_type": "code",
   "execution_count": null,
   "metadata": {
    "colab": {
     "base_uri": "https://localhost:8080/",
     "height": 117
    },
    "id": "SCT2K7YjMext",
    "outputId": "d0f100eb-c34e-4961-aae1-72dbdb896cb5"
   },
   "outputs": [
    {
     "name": "stdout",
     "output_type": "stream",
     "text": [
      "\n",
      " FMS + NASM + time \n",
      "\n",
      "Mean squared error: 0.02\n",
      "Mean absolute error: 0.10\n",
      "R2: 0.66\n"
     ]
    }
   ],
   "source": [
    "X = data.iloc[:, 1:41]\n",
    "y = data.iloc[:, 0]\n",
    "\n",
    "X_train, X_test, y_train, y_test = train_test_split(X, y, train_size = 0.33, random_state = 0)\n",
    "\n",
    "model_reg = GradientBoostingRegressor(n_estimators = 500, \n",
    "                                       learning_rate = 0.01, \n",
    "                                       max_depth = 5, \n",
    "                                       random_state = 1)\n",
    "model_reg.fit(X_train, y_train)\n",
    "\n",
    "prediction = model_reg.predict(X_test)\n",
    "\n",
    "mse = mean_squared_error(y_test, prediction)\n",
    "mae = metrics.mean_absolute_error(y_test, prediction)\n",
    "rss = np.mean((prediction - y_test) ** 2)\n",
    "r2 = r2_score(y_test, prediction)\n",
    "print('\\n FMS + NASM + time \\n')\n",
    "print('Mean squared error: %.2f' % mse)\n",
    "print('Mean absolute error: %.2f' % mae)\n",
    "print('R2: %.2f' % r2)"
   ]
  },
  {
   "cell_type": "markdown",
   "metadata": {
    "id": "btz1lBa7MvDe"
   },
   "source": [
    "## Various helper methods"
   ]
  },
  {
   "cell_type": "code",
   "execution_count": null,
   "metadata": {
    "id": "pu5EkQFHMe7Z"
   },
   "outputs": [],
   "source": [
    "# suitable depth of each tree was computed as follows\n",
    "bm = 1\n",
    "best_tree = None\n",
    "for depth in range(1, 11):\n",
    "    t = DecisionTreeRegressor(max_depth=depth)\n",
    "    t.fit(X_train, y_train)\n",
    "    pred = t.predict(X_test)\n",
    "    mse = mean_squared_error(y_test, pred)\n",
    "    r2 = r2_score(y_test, prediction)\n",
    "    if (mse < bm):\n",
    "        bm = mse\n",
    "        best_tree = (depth, r2, mse, t, pred)\n",
    "depth, r2, mse, t, bestpred = best_tree\n",
    "print('Depth with best results: ', depth)\n",
    "print('MSE: ', mse)\n",
    "print('R2: %.2f' % r2)"
   ]
  },
  {
   "cell_type": "code",
   "execution_count": null,
   "metadata": {
    "id": "cFkY0fkuMe_G"
   },
   "outputs": [],
   "source": [
    "fms_sym = [[4, 6], [5, 7], [8, 11], [9, 12], [10, 13]]\n",
    "nasm_sym = [[14, 15], [17, 18], [21, 22], [24, 25], [26, 27], [28, 29], [31, 32]]"
   ]
  },
  {
   "cell_type": "code",
   "execution_count": null,
   "metadata": {
    "id": "-m-wzZ60Me5o"
   },
   "outputs": [],
   "source": [
    "# Accessing different feature groups\n",
    "FMS_arr = data.iloc[:, 1:14] # only FMS  \n",
    "NASM_arr = data.iloc[:, 14:39] # only NASM  \n",
    "time_arr = data.iloc[:, 39:41] # only time features  \n",
    "all_f_arr = data.iloc[:, 1:39] # FMS and NASM features, but no time  \n",
    "all_f_t_arr = data.iloc[:, 1:41] # FMS + NASM + time  \n",
    "FSM_time_arr = data.iloc[:, np.r_[1:14, 39:41]] # FMS + time  \n",
    "NASM_time_arr = data.iloc[:, 14:41] # NASM + time  "
   ]
  },
  {
   "cell_type": "code",
   "execution_count": null,
   "metadata": {
    "id": "wOFEGuDzMe3s"
   },
   "outputs": [],
   "source": [
    "# This loop just removes either right or left element of the symmetrical pair.\n",
    "# Same applies for selected_features and for either having fms_sym or nasm_sym\n",
    "for left, right in fms_sym:\n",
    "    to_remove = data.columns[right]\n",
    "    del selected_features[to_remove]"
   ]
  },
  {
   "cell_type": "code",
   "execution_count": null,
   "metadata": {
    "id": "5dULCSq-Me1U"
   },
   "outputs": [],
   "source": [
    "# If element on the left of the pair has higher correlation with WeakLink_score than\n",
    "# element on the right side of the pair, remove right element. If low correlation is\n",
    "# wanted then simply change the \">\" to \"<\"\n",
    "for left, right in fms_sym:\n",
    "    l = data.columns[left]\n",
    "    r = data.columns[right]\n",
    "    if abs(data[l].corr(labels)) > abs(data[r].corr(labels)): \n",
    "        del selected_features[r]\n",
    "    else:\n",
    "        del selected_features[l]"
   ]
  },
  {
   "cell_type": "markdown",
   "metadata": {
    "id": "cyoJaat8PEVn"
   },
   "source": [
    "# Cross-validation"
   ]
  },
  {
   "cell_type": "markdown",
   "metadata": {
    "id": "ujOulVQu_Sb1"
   },
   "source": [
    "Cross Validation was conducted on all of the candidate regressors and classifiers using Leave one out cross validation (LOOCV) and KFold Cross validation where k=10."
   ]
  },
  {
   "cell_type": "code",
   "execution_count": null,
   "metadata": {
    "id": "ninL-jpY_W3z"
   },
   "outputs": [],
   "source": [
    "import numpy as np \n",
    "from sklearn import linear_model\n",
    "from sklearn.model_selection import train_test_split \n",
    "from sklearn import metrics\n",
    "import pandas as pd \n",
    "import statsmodels.formula.api as smf\n",
    "from sklearn.preprocessing import PolynomialFeatures\n",
    "from sympy import poly \n",
    "from sklearn.ensemble import RandomForestRegressor, RandomForestClassifier, GradientBoostingClassifier, GradientBoostingRegressor\n",
    "from sklearn.tree import DecisionTreeClassifier, DecisionTreeRegressor\n",
    "from sklearn.metrics import mean_squared_error\n",
    "from sklearn.model_selection import LeaveOneOut, KFold, cross_val_score\n",
    "from sklearn.base import BaseEstimator, RegressorMixin\n",
    "from sklearn.discriminant_analysis import LinearDiscriminantAnalysis, QuadraticDiscriminantAnalysis\n",
    "from sklearn import neighbors"
   ]
  },
  {
   "cell_type": "markdown",
   "metadata": {
    "id": "J6UxBidZ_aSP"
   },
   "source": [
    "##  Results For Regressors\n",
    "   \n",
    "| Model            | LOOCV MSE  | LOOCV STD   | KFOLD MSE (K=10) | KFOLD STD (K=10)\n",
    "|-------------------|--------|---------|---------|---------|\n",
    "| Linear Regressor              | 0.02337    |0.03618    | 0.02340   | 0.02340   |\n",
    "| Polynomial Regressor              | 0.02423   | 0.04395   | 0.02616   | 0.00284   |\n",
    "| Decision Tree Regressor              | 0.02551   | 0.04937    | 0.02587     |  0.00332   |\n",
    "| Random Forest Regressor              |  **0.01817**  | **0.03560**   |  0.01823    | 0.00199    |\n",
    "| Gradient Boosting Regressor              | DNF   | DNF   | **0.01593**     |  **0.00165**   |\n",
    "\n",
    "\n",
    "\n",
    "\n",
    "\n",
    "    \n"
   ]
  },
  {
   "cell_type": "markdown",
   "metadata": {
    "id": "MS7xEWlp_dx4"
   },
   "source": [
    "##  Results For Classifiers\n",
    "   \n",
    "| Model            | LOOCV Accuracy  | LOOCV STD   | KFOLD Accuracy (K=10) | KFOLD STD (K=10)\n",
    "|-------------------|--------|---------|---------|---------|\n",
    "| KNN Classifier              |0.52722    | 0.49925   | 0.52481   | 0.02966   |\n",
    "| QDA Classifier             | 0.44476   | 0.49693   | 0.41511   | 0.06597   |\n",
    "| LDA Classifier              | 0.58166   | 0.49328   | **0.57592**     | 0.03250    |\n",
    "| Decision Tree Classifier              | 0.53199   | 0.49897   | 0.52574     | 0.03087    |\n",
    "| Random Forest  Classifier              | **0.58834**   | **0.49213**   | 0.56971     | 0.03744    |\n",
    "| Gradient Boosting  Classifier              | DNF   |  DNF  | 0.57115     | **0.02739**    |\n",
    "\n"
   ]
  },
  {
   "cell_type": "markdown",
   "metadata": {
    "id": "ZFCkKTBB_g7Y"
   },
   "source": [
    "The best performing regressor according to LOOCV was Random Forest as it had the lowest mean squared error and lowest standard deviation, Gradient Boosting regressor could not finish executing LOOCV and therefore the MSE and STD values for it are missing. Gradient Boosting regressor also had overall lowest values for MSE and STD and therefor it is the champion regressor model. \n",
    "\n",
    "The best performing classifier according to LOOCV was Random Forest as it had the highest accuracy and lowest standard deviation, Gradient Boosting classifier again could not finish executing LOOCV. Random Forest had the overall highest accuracy and therefore it is the champion classifier model. \n"
   ]
  },
  {
   "cell_type": "code",
   "execution_count": null,
   "metadata": {
    "id": "j0itQsZj_jbb"
   },
   "outputs": [],
   "source": [
    "# Expert Score Regressor \n",
    "data_master=data = pd.read_csv('AimoScore_WeakLink_big_scores-2.csv', decimal=',')\n",
    "data = data.drop('ID', axis=1).astype(float)"
   ]
  },
  {
   "cell_type": "code",
   "execution_count": null,
   "metadata": {
    "colab": {
     "base_uri": "https://localhost:8080/",
     "height": 87
    },
    "id": "b6kiKCiB_nTj",
    "outputId": "96ce89b6-da98-4cd9-f402-06e48b07979f"
   },
   "outputs": [
    {
     "name": "stdout",
     "output_type": "stream",
     "text": [
      "Leave one out cross validation\n",
      "Folds: 2094, MSE: 0.02344019831638217, STD: 0.03637699495234839\n",
      "KFold cross validation, k=10\n",
      "MSE: 0.023441501737838773, STD: 0.0012887144965113152\n"
     ]
    }
   ],
   "source": [
    "# ---- Linear regression\n",
    "# Labels, AimoScore (expert score)\n",
    "y = data.iloc[:, 0]\n",
    "# Features (all of them)\n",
    "X = data.iloc[:, 1:43]\n",
    "# Create linear regression model object\n",
    "regr = linear_model.LinearRegression()\n",
    "\n",
    "# Leave one out cross fit \n",
    "print(\"Leave one out cross validation\")\n",
    "loo = LeaveOneOut()\n",
    "# loo.get_n_splits(X_val)\n",
    "crossvalidation = KFold(n_splits=loo.get_n_splits(X), random_state=None, shuffle=False)\n",
    "scores = cross_val_score(regr, X, y, scoring=\"neg_mean_squared_error\", cv=crossvalidation,n_jobs=-1)\n",
    "print(\"Folds: \" + str(len(scores)) + \", MSE: \" + str(np.mean(np.abs(scores))) + \", STD: \" + str(np.std(scores)))\n",
    "# KFold \n",
    "print(\"KFold cross validation, k=10\")\n",
    "crossvalidation = KFold(n_splits=10, shuffle=False)\n",
    "scores = cross_val_score(regr, X, y, scoring=\"neg_mean_squared_error\", cv=crossvalidation,n_jobs=-1)\n",
    "print(\"MSE: \" + str(np.mean(np.abs(scores))) + \", STD: \" + str(np.std(scores)))"
   ]
  },
  {
   "cell_type": "code",
   "execution_count": null,
   "metadata": {
    "colab": {
     "base_uri": "https://localhost:8080/",
     "height": 87
    },
    "id": "-Kg1QTEl_pJj",
    "outputId": "186e0d88-e48c-43bc-d4fb-db2b862c8c97"
   },
   "outputs": [
    {
     "name": "stdout",
     "output_type": "stream",
     "text": [
      "Leave one out cross validation\n",
      "Folds: 2094, MSE: 0.024237662507398814, STD: 0.04394614591995011\n",
      "KFold cross validation, k=10\n",
      "MSE: nan, STD: nan\n"
     ]
    }
   ],
   "source": [
    "#---- Polynomial regression\n",
    "poly = PolynomialFeatures(degree=2)\n",
    "regr = linear_model.LinearRegression()\n",
    "X = poly.fit_transform(data.iloc[:, 1:41])\n",
    "y = data.iloc[:, 0]\n",
    "#Leave one out cross fit \n",
    "print(\"Leave one out cross validation\")\n",
    "loo = LeaveOneOut()\n",
    "crossvalidation = KFold(n_splits=loo.get_n_splits(X), random_state=None, shuffle=False)\n",
    "scores = cross_val_score(regr, X, y, scoring=\"neg_mean_squared_error\", cv=crossvalidation,n_jobs=-1)\n",
    "print(\"Folds: \" + str(len(scores)) + \", MSE: \" + str(np.mean(np.abs(scores))) + \", STD: \" + str(np.std(scores)))\n",
    "#KFold \n",
    "print(\"KFold cross validation, k=10\")\n",
    "crossvalidation = KFold(n_splits=10, shuffle=False)\n",
    "scores = cross_val_score(regr, X, y, scoring=\"neg_mean_squared_error\", cv=crossvalidation,n_jobs=-1)\n",
    "print(\"MSE: \" + str(np.mean(np.abs(scores))) + \", STD: \" + str(np.std(scores)))\n"
   ]
  },
  {
   "cell_type": "code",
   "execution_count": null,
   "metadata": {
    "colab": {
     "base_uri": "https://localhost:8080/",
     "height": 87
    },
    "id": "eoDG7v6d_rnG",
    "outputId": "70718a6c-c545-46b6-9fbc-de0018c62c20"
   },
   "outputs": [
    {
     "name": "stdout",
     "output_type": "stream",
     "text": [
      "Leave one out cross validation\n",
      "Folds: 2094, MSE: 0.02551846381931239, STD: 0.049378747539781706\n",
      "KFold cross validation, k=10\n",
      "MSE: 0.026664225421170758, STD: 0.0025241568398308876\n"
     ]
    }
   ],
   "source": [
    "# ---- Decision Tree Regressor\n",
    "data = data.sample(frac=1).reset_index(drop=True)\n",
    "X = data.iloc[:, 1:41]\n",
    "y = data.iloc[:, 0]\n",
    "\n",
    "model = DecisionTreeRegressor(max_depth=4)\n",
    "\n",
    "# Leave one out cross fit \n",
    "print(\"Leave one out cross validation\")\n",
    "loo = LeaveOneOut()\n",
    "crossvalidation = KFold(n_splits=loo.get_n_splits(X), random_state=None, shuffle=False)\n",
    "scores = cross_val_score(model, X, y, scoring=\"neg_mean_squared_error\", cv=crossvalidation,n_jobs=-1)\n",
    "print(\"Folds: \" + str(len(scores)) + \", MSE: \" + str(np.mean(np.abs(scores))) + \", STD: \" + str(np.std(scores)))\n",
    "# KFold \n",
    "print(\"KFold cross validation, k=10\")\n",
    "crossvalidation = KFold(n_splits=10, shuffle=False)\n",
    "scores = cross_val_score(model, X, y, scoring=\"neg_mean_squared_error\", cv=crossvalidation,n_jobs=-1)\n",
    "print(\"MSE: \" + str(np.mean(np.abs(scores))) + \", STD: \" + str(np.std(scores)))\n"
   ]
  },
  {
   "cell_type": "code",
   "execution_count": null,
   "metadata": {
    "colab": {
     "base_uri": "https://localhost:8080/",
     "height": 87
    },
    "id": "CjRBUQA8_uJY",
    "outputId": "ead929d6-b989-4764-e516-d097082ab077"
   },
   "outputs": [
    {
     "name": "stdout",
     "output_type": "stream",
     "text": [
      "Leave one out cross validation\n",
      "Folds: 2094, MSE: 0.015872224842970795, STD: 0.028622163330917237\n",
      "KFold cross validation, k=10\n",
      "MSE: 0.016184312166388434, STD: 0.0020250314240618825\n"
     ]
    }
   ],
   "source": [
    "# ---- Random Forest Regressor\n",
    "X = data.iloc[:, 1:41]\n",
    "y = data.iloc[:, 0]\n",
    "\n",
    "model = RandomForestRegressor(max_features = 11, random_state = 1)\n",
    "\n",
    "# Leave one out cross fit \n",
    "print(\"Leave one out cross validation\")\n",
    "loo = LeaveOneOut()\n",
    "crossvalidation = KFold(n_splits=loo.get_n_splits(X), random_state=None, shuffle=False)\n",
    "scores = cross_val_score(model, X, y, scoring=\"neg_mean_squared_error\", cv=crossvalidation,n_jobs=-1)\n",
    "print(\"Folds: \" + str(len(scores)) + \", MSE: \" + str(np.mean(np.abs(scores))) + \", STD: \" + str(np.std(scores)))\n",
    "# KFold \n",
    "print(\"KFold cross validation, k=10\")\n",
    "crossvalidation = KFold(n_splits=10, shuffle=False)\n",
    "scores = cross_val_score(model, X, y, scoring=\"neg_mean_squared_error\", cv=crossvalidation,n_jobs=-1)\n",
    "print(\"MSE: \" + str(np.mean(np.abs(scores))) + \", STD: \" + str(np.std(scores)))\n"
   ]
  },
  {
   "cell_type": "code",
   "execution_count": null,
   "metadata": {
    "colab": {
     "base_uri": "https://localhost:8080/",
     "height": 52
    },
    "id": "RGM_2r1P_wIz",
    "outputId": "a7110ea3-b3d5-4b02-fa84-f002d4a163f6"
   },
   "outputs": [
    {
     "name": "stdout",
     "output_type": "stream",
     "text": [
      "KFold cross validation, k=10\n",
      "MSE: 0.015609161409685265, STD: 0.0023150344966323933\n"
     ]
    }
   ],
   "source": [
    "# ---- Gradient Boosting Regressor\n",
    "X = data.iloc[:, 1:41]\n",
    "y = data.iloc[:, 0]\n",
    "\n",
    "model = GradientBoostingRegressor(n_estimators = 500, \n",
    "                                       learning_rate = 0.01, \n",
    "                                       max_depth = 5, \n",
    "                                       random_state = 1)\n",
    "# Leave one out cross fit \n",
    "# print(\"Leave one out cross validation\")\n",
    "# loo = LeaveOneOut()\n",
    "# crossvalidation = KFold(n_splits=loo.get_n_splits(X), random_state=None, shuffle=False)\n",
    "# scores = cross_val_score(model, X, y, scoring=\"neg_mean_squared_error\", cv=crossvalidation,n_jobs=-1)\n",
    "# print(\"Folds: \" + str(len(scores)) + \", MSE: \" + str(np.mean(np.abs(scores))) + \", STD: \" + str(np.std(scores)))\n",
    "# KFold \n",
    "print(\"KFold cross validation, k=10\")\n",
    "crossvalidation = KFold(n_splits=10, shuffle=False)\n",
    "scores = cross_val_score(model, X, y, scoring=\"neg_mean_squared_error\", cv=crossvalidation,n_jobs=-1)\n",
    "print(\"MSE: \" + str(np.mean(np.abs(scores))) + \", STD: \" + str(np.std(scores)))"
   ]
  },
  {
   "cell_type": "code",
   "execution_count": null,
   "metadata": {
    "id": "Edn3pJUz_0U1"
   },
   "outputs": [],
   "source": [
    "#Weak Link Classifier \n",
    "data_master = data = pd.read_csv('AimoScore_WeakLink_big_scores_labels.csv', decimal=\",\")"
   ]
  },
  {
   "cell_type": "code",
   "execution_count": null,
   "metadata": {
    "id": "w_z2mjgD_15-"
   },
   "outputs": [],
   "source": [
    "# ---- KNN Classifier\n",
    "\n",
    "knn = neighbors.KNeighborsClassifier(n_neighbors = 3)\n",
    "\n",
    "y = data['WeakLink_label']\n",
    "X = data.iloc[:, 1:39]\n",
    "\n",
    "# Leave one out cross fit \n",
    "print(\"Leave one out cross validation\")\n",
    "loo = LeaveOneOut()\n",
    "crossvalidation = KFold(n_splits=loo.get_n_splits(X), random_state=None, shuffle=False)\n",
    "scores = cross_val_score(knn, X, y, scoring=\"accuracy\", cv=crossvalidation,n_jobs=-1)\n",
    "print(\"Folds: \" + str(len(scores)) + \", Accuracy: \" + str(np.mean(np.abs(scores))) + \", STD: \" + str(np.std(scores)))\n",
    "# KFold \n",
    "print(\"KFold cross validation, k=10\")\n",
    "crossvalidation = KFold(n_splits=10, shuffle=False)\n",
    "scores = cross_val_score(knn, X, y, scoring=\"accuracy\", cv=crossvalidation,n_jobs=-1)\n",
    "print(\"Accuracy: \" + str(np.mean(np.abs(scores))) + \", STD: \" + str(np.std(scores)))\n",
    "\n"
   ]
  },
  {
   "cell_type": "code",
   "execution_count": null,
   "metadata": {
    "id": "Jdeoy3Nl_3Z1"
   },
   "outputs": [],
   "source": [
    "data = data[data.WeakLink_label != 'LeftHeelRises']\n",
    "data = data[data.WeakLink_label != 'RightHeelRises']\n",
    "\n",
    "\n",
    "\n",
    "#---- QDA Classifier\n",
    "\n",
    "X = data.iloc[:, 14:41]\n",
    "y = data['WeakLink_label']\n",
    "\n",
    "qda = QuadraticDiscriminantAnalysis()\n",
    "\n",
    "\n",
    "#Leave one out cross fit \n",
    "print(\"Leave one out cross validation\")\n",
    "loo = LeaveOneOut()\n",
    "crossvalidation = KFold(n_splits=loo.get_n_splits(X), random_state=None, shuffle=False)\n",
    "scores = cross_val_score(qda, X, y, scoring=\"accuracy\", cv=crossvalidation,n_jobs=-1)\n",
    "print(\"Folds: \" + str(len(scores)) + \", Accuracy: \" + str(np.mean(np.abs(scores))) + \", STD: \" + str(np.std(scores)))\n",
    "#KFold \n",
    "print(\"KFold cross validation, k=10\")\n",
    "crossvalidation = KFold(n_splits=10, shuffle=False)\n",
    "scores = cross_val_score(qda, X, y, scoring=\"accuracy\", cv=crossvalidation,n_jobs=-1)\n",
    "print(\"Accuracy: \" + str(np.mean(np.abs(scores))) + \", STD: \" + str(np.std(scores)))\n",
    "\n",
    "\n",
    "\n"
   ]
  },
  {
   "cell_type": "code",
   "execution_count": null,
   "metadata": {
    "id": "t6AEt4_J_9Vi"
   },
   "outputs": [],
   "source": [
    "# ---- LDA Classifier\n",
    "data = data_master\n",
    "X = data.iloc[:, 1:41]\n",
    "y = data['WeakLink_label']\n",
    "\n",
    "lda = LinearDiscriminantAnalysis()\n",
    "\n",
    "# Leave one out cross fit \n",
    "print(\"Leave one out cross validation\")\n",
    "loo = LeaveOneOut()\n",
    "crossvalidation = KFold(n_splits=loo.get_n_splits(X), random_state=None, shuffle=False)\n",
    "scores = cross_val_score(lda, X, y, scoring=\"accuracy\", cv=crossvalidation,n_jobs=-1)\n",
    "print(\"Folds: \" + str(len(scores)) + \", Accuracy: \" + str(np.mean(np.abs(scores))) + \", STD: \" + str(np.std(scores)))\n",
    "# KFold \n",
    "print(\"KFold cross validation, k=10\")\n",
    "crossvalidation = KFold(n_splits=10, shuffle=False)\n",
    "scores = cross_val_score(lda, X, y, scoring=\"accuracy\", cv=crossvalidation,n_jobs=-1)\n",
    "print(\"Accuracy: \" + str(np.mean(np.abs(scores))) + \", STD: \" + str(np.std(scores)))\n",
    "\n",
    "\n",
    "\n"
   ]
  },
  {
   "cell_type": "code",
   "execution_count": null,
   "metadata": {
    "id": "0ZMEfE3N_-3d"
   },
   "outputs": [],
   "source": [
    "features_names = [\n",
    "      'No_1_Angle_Deviation', 'No_2_Angle_Deviation',\n",
    "       'No_3_Angle_Deviation', 'No_5_Angle_Deviation', 'No_6_Angle_Deviation',\n",
    "       'No_8_Angle_Deviation', 'No_12_Angle_Deviation',\n",
    "       'No_13_Angle_Deviation', 'No_1_NASM_Deviation', 'No_2_NASM_Deviation',\n",
    "       'No_3_NASM_Deviation', 'No_4_NASM_Deviation', 'No_5_NASM_Deviation',\n",
    "       'No_6_NASM_Deviation', 'No_7_NASM_Deviation', 'No_8_NASM_Deviation',\n",
    "       'No_9_NASM_Deviation', 'No_10_NASM_Deviation', 'No_11_NASM_Deviation',\n",
    "       'No_12_NASM_Deviation', 'No_13_NASM_Deviation', 'No_14_NASM_Deviation',\n",
    "       'No_15_NASM_Deviation', 'No_16_NASM_Deviation', 'No_17_NASM_Deviation',\n",
    "       'No_18_NASM_Deviation', 'No_19_NASM_Deviation', 'No_20_NASM_Deviation',\n",
    "       'No_21_NASM_Deviation', 'No_22_NASM_Deviation', 'No_23_NASM_Deviation',\n",
    "       'No_24_NASM_Deviation', 'No_25_NASM_Deviation', 'No_1_Time_Deviation',\n",
    "       'No_2_Time_Deviation']\n",
    "label_name = 'WeakLink_label'"
   ]
  },
  {
   "cell_type": "code",
   "execution_count": null,
   "metadata": {
    "id": "OL-8ubLu___U"
   },
   "outputs": [],
   "source": [
    "# ---- Decision Tree Classifier\n",
    "X = data.loc[:, features_names]\n",
    "y = data.loc[:, label_name]\n",
    "t = DecisionTreeClassifier(max_depth=10)\n",
    "\n",
    "# Leave one out cross fit \n",
    "print(\"Leave one out cross validation\")\n",
    "loo = LeaveOneOut()\n",
    "crossvalidation = KFold(n_splits=loo.get_n_splits(X), random_state=None, shuffle=False)\n",
    "scores = cross_val_score(t, X, y, scoring=\"accuracy\", cv=crossvalidation,n_jobs=-1)\n",
    "print(\"Folds: \" + str(len(scores)) + \", Accuracy: \" + str(np.mean(np.abs(scores))) + \", STD: \" + str(np.std(scores)))\n",
    "# KFold \n",
    "print(\"KFold cross validation, k=10\")\n",
    "crossvalidation = KFold(n_splits=10, shuffle=False)\n",
    "scores = cross_val_score(t, X, y, scoring=\"accuracy\", cv=crossvalidation,n_jobs=-1)\n",
    "print(\"Accuracy: \" + str(np.mean(np.abs(scores))) + \", STD: \" + str(np.std(scores)))\n",
    "\n",
    "\n"
   ]
  },
  {
   "cell_type": "code",
   "execution_count": null,
   "metadata": {
    "id": "19TNAqJ7ABPj"
   },
   "outputs": [],
   "source": [
    "# ---- Random Forest Classifier\n",
    "t = RandomForestClassifier(max_depth=10, max_features=24)\n",
    "# Leave one out cross fit \n",
    "print(\"Leave one out cross validation\")\n",
    "loo = LeaveOneOut()\n",
    "crossvalidation = KFold(n_splits=loo.get_n_splits(X), random_state=None, shuffle=False)\n",
    "scores = cross_val_score(t, X, y, scoring=\"accuracy\", cv=crossvalidation,n_jobs=-1)\n",
    "print(\"Folds: \" + str(len(scores)) + \", Accuracy: \" + str(np.mean(np.abs(scores))) + \", STD: \" + str(np.std(scores)))\n",
    "# KFold \n",
    "print(\"KFold cross validation, k=10\")\n",
    "crossvalidation = KFold(n_splits=10, shuffle=False)\n",
    "scores = cross_val_score(t, X, y, scoring=\"accuracy\", cv=crossvalidation,n_jobs=-1)\n",
    "print(\"Accuracy: \" + str(np.mean(np.abs(scores))) + \", STD: \" + str(np.std(scores)))"
   ]
  },
  {
   "cell_type": "code",
   "execution_count": null,
   "metadata": {
    "id": "dAU__-IOADOo"
   },
   "outputs": [],
   "source": [
    "# ---- Gradient Forest Classifier\n",
    "boost = GradientBoostingClassifier(n_estimators = 500, \n",
    "                                           learning_rate = 0.1, \n",
    "                                           max_depth = 10, \n",
    "                                           random_state = 1)\n",
    "    \n",
    "# # Leave one out cross fit \n",
    "# print(\"Leave one out cross validation\")\n",
    "# loo = LeaveOneOut()\n",
    "# crossvalidation = KFold(n_splits=loo.get_n_splits(X), random_state=None, shuffle=False)\n",
    "# scores = cross_val_score(boost, X, y, scoring=\"accuracy\", cv=crossvalidation,n_jobs=-1)\n",
    "# print(\"Folds: \" + str(len(scores)) + \", Accuracy: \" + str(np.mean(np.abs(scores))) + \", STD: \" + str(np.std(scores)))\n",
    "# KFold \n",
    "print(\"KFold cross validation, k=10\")\n",
    "crossvalidation = KFold(n_splits=10, shuffle=False)\n",
    "scores = cross_val_score(boost, X, y, scoring=\"accuracy\", cv=crossvalidation,n_jobs=-1)\n",
    "print(\"Accuracy: \" + str(np.mean(np.abs(scores))) + \", STD: \" + str(np.std(scores)))"
   ]
  }
 ],
 "metadata": {
  "colab": {
   "collapsed_sections": [],
   "provenance": [],
   "toc_visible": true
  },
  "kernelspec": {
   "display_name": "Python 3 (ipykernel)",
   "language": "python",
   "name": "python3"
  },
  "language_info": {
   "codemirror_mode": {
    "name": "ipython",
    "version": 3
   },
   "file_extension": ".py",
   "mimetype": "text/x-python",
   "name": "python",
   "nbconvert_exporter": "python",
   "pygments_lexer": "ipython3",
   "version": "3.10.7"
  }
 },
 "nbformat": 4,
 "nbformat_minor": 1
}
