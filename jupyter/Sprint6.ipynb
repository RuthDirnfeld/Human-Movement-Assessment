{
 "cells": [
  {
   "cell_type": "markdown",
   "metadata": {
    "id": "LmGlELQADFWo"
   },
   "source": []
  },
  {
   "cell_type": "markdown",
   "metadata": {
    "id": "Z0zdvFSuC_At"
   },
   "source": [
    "### Product link: http://ec2-13-48-176-197.eu-north-1.compute.amazonaws.com:5000"
   ]
  },
  {
   "cell_type": "markdown",
   "metadata": {
    "id": "Hv7ee9N3NOFM"
   },
   "source": [
    "Last iteration, our best performing model for classification was Random Forest. Last time, we only tried to optimize the model by changing one of its parameters. This time, we decided to not only use GridSearchCV for finding out optimal parameters for Support Vector Machine, but also implement this approach to Random Forest classifier with several parameters so that the most optimal models can be compared. This time, we split the given dataset in parts where 90% was used to cross validate using GridSearch and 10% was then used as test dataset to find the accuracy of the model.\n",
    "\n",
    "We used the same feature selection methods as the last iteration, therefore they will not be included in this report. Below are various model performances as well as the code showing how each model was tested."
   ]
  },
  {
   "cell_type": "markdown",
   "metadata": {
    "id": "JPiRjYpyNOFS"
   },
   "source": [
    "## NASM feature variation\n",
    "|Features                   | Best parameters                                                   | Score | Accuracy | Precision | Recall | f1 score   | Classifier             |\n",
    "|----------------------------|-------------------------------------------------------------------|-------|----------|-----------|--------|------|--------------|\n",
    "| Only NASM features               | {'C': 0.1, 'gamma': 0.5, 'kernel': 'poly'}                        | 0.599 | 0.557    | 0.5       | 0.56   | 0.52 | SVC          |\n",
    "| Only NASM features               | {'criterion': 'gini', 'max_depth': 13, 'max_features': 'auto'}    | 0.613 | 0.529    | 0.51      | 0.53   | 0.5  | RandomForest |\n",
    "| Only NASM features + Time        | {'C': 0.01, 'gamma': 1, 'kernel': 'poly'}                         | 0.602 | 0.552    | 0.5       | 0.55   | 0.52 | SVC          |\n",
    "| Only NASM features + Time        | {'criterion': 'gini', 'max_depth': 22, 'max_features': 'auto'}    | 0.619 | 0.552    | 0.52      | 0.55   | 0.51 | RandomForest |\n",
    "| NASM - left values of symmetrical pairs removed - All + Time  | {'C': 0.1, 'gamma': 0.5, 'kernel': 'poly'}                        | 0.593 | 0.53     | 0.49      | 0.53   | 0.5  | SVC          |\n",
    "| NASM - left values of symmetrical pairs removed  - All + Time   | {'criterion': 'entropy', 'max_depth': 13, 'max_features': 'auto'} | 0.6   | 0.557    | 0.5       | 0.56   | 0.52 | RandomForest |\n",
    "| NASM - left values of symmetrical pairs removed  - All         | {'C': 0.1, 'gamma': 0.5, 'kernel': 'poly'}                        | 0.598 | 0.54     | 0.49      | 0.54   | 0.51 | SVC          |\n",
    "| NASM - left values of symmetrical pairs removed  - All         | {'criterion': 'gini', 'max_depth': 22, 'max_features': 'log2'}    | 0.6   | 0.529    | 0.53      | 0.53   | 0.5  | RandomForest |\n",
    "| NASM - left values of symmetrical pairs removed  - Just NASM   | {'C': 1, 'gamma': 1, 'kernel': 'rbf'}                             | 0.567 | 0.52     | 0.47      | 0.52   | 0.48 | SVC          |\n",
    "| NASM - left values of symmetrical pairs removed  - Just NASM   | {'criterion': 'gini', 'max_depth': 16, 'max_features': 'auto'}    | 0.585 | 0.548    | 0.49      | 0.55   | 0.51 | RandomForest |\n",
    "| **NASM - right values of symmetrical pairs removed  - All + Time** | **{'C': 0.1, 'gamma': 0.5, 'kernel': 'poly'}**                       | **0.612** | **0.591**    | **0.55**      | **0.59**   | **0.56** | **SVC**          |\n",
    "| NASM - right values of symmetrical pairs - All +Time  | {'criterion': 'gini', 'max_depth': 19, 'max_features': 'auto'}    | 0.611 | 0.538    | 0.5       | 0.54   | 0.5  | RandomForest |\n",
    "| **NASM - right values of symmetrical pairs removed - All**       | **{'C': 0.01, 'gamma': 2, 'kernel': 'poly'}**                        | **0.604** | **0.571**    | **0.56**     | **0.57**   | **0.55** | **SVC**         |\n",
    "| NASM - right values of symmetrical pairs removed - All        | {'criterion': 'entropy', 'max_depth': 13, 'max_features': 'auto'} | 0.605 | 0.557    | 0.51      | 0.56   | 0.52 | RandomForest |\n",
    "| NASM - right values of symmetrical pairs removed - Just NASM  | {'C': 10, 'gamma': 0.5, 'kernel': 'rbf'}                          | 0.596 | 0.5      | 0.48      | 0.5    | 0.48 | SVC          |\n",
    "| NASM - right values of symmetrical pairs removed - Just NASM  | {'criterion': 'gini', 'max_depth': 14, 'max_features': 'auto'}    | 0.605 | 0.562    | 0.51      | 0.56   | 0.53 | RandomForest |\n",
    "| NASM - higher correlated symmetrical pair values to label - All + Time  | {'C': 0.1, 'gamma': 0.5, 'kernel': 'poly'}                        | 0.587 | 0.524    | 0.51      | 0.52   | 0.5  | SVC          |\n",
    "| NASM - higher correlated symmetrical pair values to label - All +Time   | {'criterion': 'gini', 'max_depth': 24, 'max_features': 'auto'}    | 0.604 | 0.533    | 0.49      | 0.53   | 0.5  | RandomForest |\n",
    "| NASM - higher correlated symmetrical pair values to label - All         | {'C': 0.1, 'gamma': 0.5, 'kernel': 'poly'}                        | 0.592 | 0.548    | 0.53      | 0.55   | 0.53 | SVC          |\n",
    "| NASM - higher correlated symmetrical pair values to label - All         | {'criterion': 'gini', 'max_depth': 21, 'max_features': 'log2'}    | 0.596 | 0.529    | 0.53      | 0.53   | 0.5  | RandomForest |\n",
    "| NASM - higher correlated symmetrical pair values to label - Just NASM   | {'C': 10, 'gamma': 0.5, 'kernel': 'rbf'}                          | 0.579 | 0.5      | 0.49      | 0.5    | 0.47 | SVC          |\n",
    "| NASM - higher correlated symmetrical pair values to label - Just NASM   | {'criterion': 'gini', 'max_depth': 16, 'max_features': 'auto'}    | 0.582 | 0.543    | 0.49      | 0.54   | 0.51 | RandomForest |"
   ]
  },
  {
   "cell_type": "markdown",
   "metadata": {
    "id": "kGea_hKENOFX"
   },
   "source": [
    "## FMS feature variations\n",
    "|Features                   | Best parameters                                                   | Score | Accuracy | Precision | Recall | f1 score   | Classifier             |\n",
    "|----------------------------|-------------------------------------------------------------------|-------|----------|-----------|--------|------|--------------|\n",
    "| Only FMS features               | {'C': 1, 'gamma': 3, 'kernel': 'rbf'}                             | 0.503 | 0.476 | 0.43 | 0.48 | 0,44 | SVC          |\n",
    "| Only FMS features               | {'criterion': 'gini', 'max_depth': 12, 'max_features': 'auto'}    | 0.515 | 0.481 | 0.47 | 0.48 | 0,44 | RandomForest |\n",
    "| Only FMS features + time        | {'C': 10, 'gamma': 0.5, 'kernel': 'rbf'}                          | 0.506 | 0.457 | 0.43 | 0.46 | 0.44 | SVC          |\n",
    "| Only FMS features + time        | {'criterion': 'entropy', 'max_depth': 13, 'max_features': 'auto'} | 0.522 | 0.457 | 0.4  | 0.46 | 0.41 | RandomForest |\n",
    "| FMS - right values of symmetrical pairs removed - All + Time  | {'C': 0.1, 'gamma': 0.5, 'kernel': 'poly'}                        | 0.611 | 0.562 | 0.53 | 0.56 | 0.54 | SVC          |\n",
    "| FMS - right values of symmetrical pairs removed - All + Time   | {'criterion': 'gini', 'max_depth': 12, 'max_features': 'auto'}    | 0.604 | 0.538 | 0.5  | 0.54 | 0.5  | RandomForest |\n",
    "| FMS - right values of symmetrical pairs removed - All         | {'C': 0.01, 'gamma': 1, 'kernel': 'poly'}                         | 0.611 | 0.571 | 0.54 | 0.57 | 0.55 | SVC          |\n",
    "| FMS - right values of symmetrical pairs removed - All         | {'criterion': 'gini', 'max_depth': 20, 'max_features': 'auto'}    | 0.613 | 0.571 | 0.57 | 0.57 | 0.54 | RandomForest |\n",
    "| FMS - right values of symmetrical pairs removed - Just FMS    | {'C': 1, 'gamma': 3, 'kernel': 'rbf'}                             | 0.457 | 0.433 | 0.37 | 0.43 | 0.38 | SVC          |\n",
    "| FMS - right values of symmetrical pairs removed - Just FMS    | {'criterion': 'gini', 'max_depth': 7, 'max_features': 'log2'}     | 0.455 | 0.448 | 0.37 | 0.45 | 0.38 | RandomForest |\n",
    "| **FMS - left values of symmetrical pairs removed - All + Time** | **{'C': 0.1, 'gamma': 0.5, 'kernel': 'poly'}**                        | **0.617** | **0.595** | **0.54** | **0.6**  | **0.56** | **SVC**          |\n",
    "| **FMS - left values of symmetrical pairs removed - All + Time**  | **{'criterion': 'entropy', 'max_depth': 11, 'max_features': 'auto'}** | **0.613** | **0.562** | **0.55** | **0.56** | **0.52** | **RandomForest** |\n",
    "| FMS - left values of symmetrical pairs removed - All        | {'C': 0.1, 'gamma': 0.5, 'kernel': 'poly'}                        | 0.612 | 0.6   | 0.54 | 0.6  | 0.56 | SVC          |\n",
    "| FMS - left values of symmetrical pairs removed - All        | {'criterion': 'gini', 'max_depth': 23, 'max_features': 'auto'}    | 0.614 | 0.586 | 0.58 | 0.59 | 0.55 | RandomForest |\n",
    "| FMS - left values of symmetrical pairs removed - Just FMS   | {'C': 1, 'gamma': 4, 'kernel': 'rbf'}                             | 0.479 | 0.448 | 0.39 | 0.45 | 0.39 | SVC          |\n",
    "| FMS - left values of symmetrical pairs removed - Just FMS   | {'criterion': 'entropy', 'max_depth': 7, 'max_features': 'log2'}  | 0.455 | 0.395 | 0.32 | 0.4  | 0.34 | RandomForest |\n",
    "| FMS - higher correlated symmetrical pair values to label - All + Time | {'C': 0.1, 'gamma': 0.5, 'kernel': 'poly'}                        | 0.615 | 0.571 | 0.51 | 0.57 | 0.54 | SVC          |\n",
    "| FMS - higher correlated symmetrical pair values to label - All + Time  | {'criterion': 'entropy', 'max_depth': 16, 'max_features': 'auto'} | 0.616 | 0.543 | 0.49 | 0.54 | 0.51 | RandomForest |\n",
    "| FMS - higher correlated symmetrical pair values to label - All        | {'C': 0.1, 'gamma': 0.5, 'kernel': 'poly'}                        | 0.618 | 0.6   | 0.55 | 0.6  | 0.57 | SVC          |\n",
    "| FMS - higher correlated symmetrical pair values to label - All        | {'criterion': 'entropy', 'max_depth': 21, 'max_features': 'auto'} | 0.617 | 0.519 | 0.47 | 0.52 | 0.48 | RandomForest |\n",
    "| FMS - higher correlated symmetrical pair values to label - Just FMS   | {'C': 1, 'gamma': 2, 'kernel': 'rbf'}                             | 0.485 | 0.448 | 0.39 | 0.45 | 0.39 | SVC          |\n",
    "| FMS - higher correlated symmetrical pair values to label - Just FMS   | {'criterion': 'entropy', 'max_depth': 7, 'max_features': 'auto'}  | 0.484 | 0.424 | 0.34 | 0.42 | 0.36 | RandomForest |"
   ]
  },
  {
   "cell_type": "markdown",
   "metadata": {
    "id": "P7GyLuj6NOFa"
   },
   "source": [
    "## Combination of both feature groups\n",
    "\n",
    "|Features                   | Best parameters                                                   | Score | Accuracy | Precision | Recall | f1 score   | Classifier             |\n",
    "|----------------------------|-------------------------------------------------------------------|-------|----------|-----------|--------|------|--------------|\n",
    "Higher correlated symmetrical pair values to label from both feature groups - All + Time |\t{'C': 0.1, 'gamma': 0.5, 'kernel': 'poly'}|\t0.582|\t0.524|\t0.5|\t0.52|\t0.5|\tSVC\n",
    "Higher correlated symmetrical pair values to label from both feature groups - All + Time |\t{'criterion': 'gini', 'max_depth': 19, 'max_features': 'auto'}|\t0.593|\t0.519|\t0.47|\t0.52|\t0.49|\tRandomForest\n",
    "**Higher correlated symmetrical pair values to label from both feature groups - All** |\t**{'C': 0.01, 'gamma': 1, 'kernel': 'poly'}**|\t**0.59**|\t**0.548**|\t**0.52**|\t**0.55**|\t**0.52**|\t**SVC**\n",
    "Higher correlated symmetrical pair values to label from both feature groups - All |\t{'criterion': 'gini', 'max_depth': 22, 'max_features': 'log2'}| 0.598|\t0.495|\t0.45|\t0.5|\t0.46|\tRandomForest"
   ]
  },
  {
   "cell_type": "markdown",
   "metadata": {
    "id": "4-pY3U_2NOFe"
   },
   "source": [
    "From the tests, we can see that the best performing model for this iteration was support vector classifier with parameters C - 0.1, gamma - 0.5, kernel - poly using *FMS - left values of symmetrical pairs removed - All + Time* features."
   ]
  },
  {
   "cell_type": "code",
   "execution_count": null,
   "metadata": {
    "id": "HWhCqrHyNOFj"
   },
   "outputs": [],
   "source": [
    "import numpy as np\n",
    "import pandas as pd\n",
    "\n",
    "from sklearn import metrics\n",
    "from sklearn.svm import SVC\n",
    "from sklearn.model_selection import train_test_split\n",
    "from sklearn.model_selection import GridSearchCV\n",
    "from sklearn.ensemble import RandomForestClassifier\n",
    "import warnings\n",
    "warnings.filterwarnings('ignore')"
   ]
  },
  {
   "cell_type": "code",
   "execution_count": null,
   "metadata": {
    "id": "RtHKHfhoNOFt"
   },
   "outputs": [],
   "source": [
    "data = pd.read_csv('data.csv')\n",
    "data.drop(data.columns[[0]], axis=1, inplace=True)\n",
    "train_set, test_set = train_test_split(data, train_size = 0.9, random_state = 1)"
   ]
  },
  {
   "cell_type": "markdown",
   "metadata": {
    "id": "Mn2d-WT3NOF1"
   },
   "source": [
    "# NASM feature tests"
   ]
  },
  {
   "cell_type": "code",
   "execution_count": null,
   "metadata": {
    "id": "qcKvG4CHNOF3"
   },
   "outputs": [],
   "source": [
    "features_names = [\n",
    "           'No_1_Angle_Deviation', 'No_2_Angle_Deviation', 'No_3_Angle_Deviation',\n",
    "       'No_4_Angle_Deviation', 'No_5_Angle_Deviation', 'No_6_Angle_Deviation',\n",
    "       'No_7_Angle_Deviation', 'No_8_Angle_Deviation', 'No_9_Angle_Deviation',\n",
    "       'No_10_Angle_Deviation', 'No_11_Angle_Deviation',\n",
    "       'No_12_Angle_Deviation', 'No_13_Angle_Deviation', 'No_1_NASM_Deviation',\n",
    "       'No_3_NASM_Deviation', 'No_4_NASM_Deviation', 'No_6_NASM_Deviation',\n",
    "       'No_7_NASM_Deviation', 'No_8_NASM_Deviation', 'No_10_NASM_Deviation',\n",
    "       'No_11_NASM_Deviation', 'No_13_NASM_Deviation', 'No_15_NASM_Deviation',\n",
    "       'No_17_NASM_Deviation', 'No_18_NASM_Deviation', 'No_20_NASM_Deviation',\n",
    "       'No_21_NASM_Deviation', 'No_22_NASM_Deviation', 'No_23_NASM_Deviation',\n",
    "       'No_24_NASM_Deviation', 'No_25_NASM_Deviation', 'No_1_Time_Deviation',\n",
    "       'No_2_Time_Deviation']\n",
    "label_name = 'WeakLink_label'\n",
    "\n",
    "# Set up subsets for model testing\n",
    "X_train = train_set.loc[:, features_names]\n",
    "y_train = train_set.loc[:, label_name]\n",
    "\n",
    "X_test = test_set.loc[:, features_names]\n",
    "y_test = test_set.loc[:, label_name]"
   ]
  },
  {
   "cell_type": "code",
   "execution_count": null,
   "metadata": {
    "id": "_ed3mee4NOF_"
   },
   "outputs": [],
   "source": [
    "feature_range = list(range(2, len(features_names)))\n",
    "\n",
    "params = {'max_features': ['auto', 'sqrt', 'log2'], 'max_depth' : feature_range, 'criterion' :['gini', 'entropy']}\n",
    "rf = RandomForestClassifier(random_state=0)\n",
    "gscvrf = GridSearchCV(rf, params)\n",
    "gscvrffitted = gscvrf.fit(X_train, y_train)\n"
   ]
  },
  {
   "cell_type": "code",
   "execution_count": null,
   "metadata": {
    "id": "WWga53gINOGG",
    "outputId": "0e980df4-07d4-4e7a-bec6-5690382cfbda"
   },
   "outputs": [
    {
     "data": {
      "text/plain": [
       "{'criterion': 'gini', 'max_depth': 19, 'max_features': 'auto'}"
      ]
     },
     "execution_count": 43,
     "metadata": {
      "tags": []
     },
     "output_type": "execute_result"
    }
   ],
   "source": [
    "gscvrffitted.best_params_"
   ]
  },
  {
   "cell_type": "code",
   "execution_count": null,
   "metadata": {
    "id": "qqnA4eH5NOGO",
    "outputId": "749573ee-73db-49f8-cd29-32cb51758481"
   },
   "outputs": [
    {
     "data": {
      "text/plain": [
       "0.6109360009029856"
      ]
     },
     "execution_count": 44,
     "metadata": {
      "tags": []
     },
     "output_type": "execute_result"
    }
   ],
   "source": [
    "gscvrffitted.best_score_"
   ]
  },
  {
   "cell_type": "code",
   "execution_count": null,
   "metadata": {
    "id": "qDlrk4BxNOGW",
    "outputId": "539ff601-8ff4-4c59-c988-d1040af1cb56"
   },
   "outputs": [
    {
     "name": "stdout",
     "output_type": "stream",
     "text": [
      "Accuracy:  0.5380952380952381\n",
      "                              precision    recall  f1-score   support\n",
      "\n",
      "        ExcessiveForwardLean       1.00      0.42      0.59        12\n",
      "                 ForwardHead       0.67      0.50      0.57         8\n",
      "          LeftArmFallForward       0.48      0.67      0.56        64\n",
      " LeftAsymmetricalWeightShift       0.67      0.44      0.53         9\n",
      "        LeftKneeMovesOutward       0.00      0.00      0.00         8\n",
      "       LeftShoulderElevation       0.00      0.00      0.00         7\n",
      "         RightArmFallForward       0.39      0.40      0.40        40\n",
      "RightAsymmetricalWeightShift       0.00      0.00      0.00         3\n",
      "              RightHeelRises       0.00      0.00      0.00         1\n",
      "        RightKneeMovesInward       0.00      0.00      0.00         7\n",
      "       RightKneeMovesOutward       0.82      0.92      0.87        25\n",
      "      RightShoulderElevation       0.55      0.69      0.61        26\n",
      "\n",
      "                    accuracy                           0.54       210\n",
      "                   macro avg       0.38      0.34      0.34       210\n",
      "                weighted avg       0.50      0.54      0.50       210\n",
      "\n"
     ]
    }
   ],
   "source": [
    "best_estimator = gscvrffitted.best_estimator_\n",
    "pred = best_estimator.predict(X_test)\n",
    "accuracy = np.mean(y_test == pred)\n",
    "print('Accuracy: ', accuracy)\n",
    "print(metrics.classification_report(y_test, pred))"
   ]
  },
  {
   "cell_type": "code",
   "execution_count": null,
   "metadata": {
    "id": "hGfLdQC1NOGc"
   },
   "outputs": [],
   "source": [
    "parameters = {'kernel':('linear', 'poly', 'rbf', 'sigmoid'), 'C': [0.01, 0.1, 1, 10, 100],'gamma': [0.5, 1, 2, 3, 4]}\n",
    "svc = SVC(random_state=0)\n",
    "gscv = GridSearchCV(svc, parameters)\n",
    "gscvsvc = gscv.fit(X_train, y_train)"
   ]
  },
  {
   "cell_type": "code",
   "execution_count": null,
   "metadata": {
    "id": "CQrz2VmwNOGj",
    "outputId": "0a52d5af-6421-48c9-ecae-5247c59e0c52"
   },
   "outputs": [
    {
     "data": {
      "text/plain": [
       "{'C': 0.1, 'gamma': 0.5, 'kernel': 'poly'}"
      ]
     },
     "execution_count": 47,
     "metadata": {
      "tags": []
     },
     "output_type": "execute_result"
    }
   ],
   "source": [
    "gscvsvc.best_params_"
   ]
  },
  {
   "cell_type": "code",
   "execution_count": null,
   "metadata": {
    "id": "eo3YjrnINOGq",
    "outputId": "f0000872-4c2b-4434-a18a-2726df6c7297"
   },
   "outputs": [
    {
     "data": {
      "text/plain": [
       "0.611463683052091"
      ]
     },
     "execution_count": 48,
     "metadata": {
      "tags": []
     },
     "output_type": "execute_result"
    }
   ],
   "source": [
    "gscvsvc.best_score_"
   ]
  },
  {
   "cell_type": "code",
   "execution_count": null,
   "metadata": {
    "id": "9iyrRDSgNOGx",
    "outputId": "8ce1c155-fcf0-4a66-9e9b-96568807283f"
   },
   "outputs": [
    {
     "name": "stdout",
     "output_type": "stream",
     "text": [
      "Accuracy:  0.5904761904761905\n",
      "                              precision    recall  f1-score   support\n",
      "\n",
      "        ExcessiveForwardLean       0.82      0.75      0.78        12\n",
      "                 ForwardHead       0.33      0.25      0.29         8\n",
      "          LeftArmFallForward       0.59      0.73      0.65        64\n",
      " LeftAsymmetricalWeightShift       0.67      0.67      0.67         9\n",
      "        LeftKneeMovesOutward       0.00      0.00      0.00         8\n",
      "       LeftShoulderElevation       0.00      0.00      0.00         7\n",
      "         RightArmFallForward       0.49      0.45      0.47        40\n",
      "RightAsymmetricalWeightShift       0.00      0.00      0.00         3\n",
      "              RightHeelRises       0.00      0.00      0.00         1\n",
      "        RightKneeMovesInward       1.00      0.14      0.25         7\n",
      "       RightKneeMovesOutward       0.77      0.92      0.84        25\n",
      "      RightShoulderElevation       0.56      0.69      0.62        26\n",
      "\n",
      "                    accuracy                           0.59       210\n",
      "                   macro avg       0.44      0.38      0.38       210\n",
      "                weighted avg       0.55      0.59      0.56       210\n",
      "\n"
     ]
    }
   ],
   "source": [
    "best_estimator = gscvsvc.best_estimator_\n",
    "pred = best_estimator.predict(X_test)\n",
    "accuracy = np.mean(y_test == pred)\n",
    "print('Accuracy: ', accuracy)\n",
    "print(metrics.classification_report(y_test, pred))"
   ]
  },
  {
   "cell_type": "markdown",
   "metadata": {
    "id": "TwOQeCGBNOG4"
   },
   "source": [
    "# FMS feature tests"
   ]
  },
  {
   "cell_type": "code",
   "execution_count": null,
   "metadata": {
    "id": "hmBPa5qBNOG6"
   },
   "outputs": [],
   "source": [
    "features_names = ['No_1_Angle_Deviation', 'No_2_Angle_Deviation', 'No_3_Angle_Deviation',\n",
    "       'No_6_Angle_Deviation', 'No_7_Angle_Deviation', 'No_11_Angle_Deviation',\n",
    "       'No_12_Angle_Deviation', 'No_13_Angle_Deviation','No_1_NASM_Deviation', 'No_2_NASM_Deviation', 'No_3_NASM_Deviation',\n",
    "            'No_4_NASM_Deviation', 'No_5_NASM_Deviation', 'No_6_NASM_Deviation', 'No_7_NASM_Deviation',\n",
    "            'No_8_NASM_Deviation', 'No_9_NASM_Deviation', 'No_10_NASM_Deviation', 'No_11_NASM_Deviation',\n",
    "            'No_12_NASM_Deviation', 'No_13_NASM_Deviation', 'No_14_NASM_Deviation', 'No_15_NASM_Deviation',\n",
    "            'No_16_NASM_Deviation', 'No_17_NASM_Deviation', 'No_18_NASM_Deviation', 'No_19_NASM_Deviation',\n",
    "            'No_20_NASM_Deviation', 'No_21_NASM_Deviation', 'No_22_NASM_Deviation', 'No_23_NASM_Deviation',\n",
    "            'No_24_NASM_Deviation', 'No_25_NASM_Deviation', 'No_1_Time_Deviation', 'No_2_Time_Deviation'\n",
    "           ]\n",
    "label_name = 'WeakLink_label'\n",
    "\n",
    "# Set up subsets for model testing\n",
    "X_train = train_set.loc[:, features_names]\n",
    "y_train = train_set.loc[:, label_name]\n",
    "\n",
    "X_test = test_set.loc[:, features_names]\n",
    "y_test = test_set.loc[:, label_name]"
   ]
  },
  {
   "cell_type": "code",
   "execution_count": null,
   "metadata": {
    "id": "9xvmyM32NOG_"
   },
   "outputs": [],
   "source": [
    "feature_range = list(range(2, len(features_names)))\n",
    "\n",
    "params = {'max_features': ['auto', 'sqrt', 'log2'], 'max_depth' : feature_range, 'criterion' :['gini', 'entropy']}\n",
    "rf = RandomForestClassifier(random_state=0)\n",
    "gscvrf = GridSearchCV(rf, params)\n",
    "gscvrffitted = gscvrf.fit(X_train, y_train)"
   ]
  },
  {
   "cell_type": "code",
   "execution_count": null,
   "metadata": {
    "id": "XT4Icm7MNOHE",
    "outputId": "d06e5ba7-cd5c-4037-e625-7199bb9f0449"
   },
   "outputs": [
    {
     "data": {
      "text/plain": [
       "{'criterion': 'entropy', 'max_depth': 11, 'max_features': 'auto'}"
      ]
     },
     "execution_count": 52,
     "metadata": {
      "tags": []
     },
     "output_type": "execute_result"
    }
   ],
   "source": [
    "gscvrffitted.best_params_"
   ]
  },
  {
   "cell_type": "code",
   "execution_count": null,
   "metadata": {
    "id": "65C7ZLtVNOHK",
    "outputId": "198f9056-03ea-4ded-b200-2da8b82933d9"
   },
   "outputs": [
    {
     "data": {
      "text/plain": [
       "0.6130678932219651"
      ]
     },
     "execution_count": 53,
     "metadata": {
      "tags": []
     },
     "output_type": "execute_result"
    }
   ],
   "source": [
    "gscvrffitted.best_score_"
   ]
  },
  {
   "cell_type": "code",
   "execution_count": null,
   "metadata": {
    "id": "1R2UAmqDNOHP",
    "outputId": "d4018819-2f73-4782-bb43-582ad5d8c812"
   },
   "outputs": [
    {
     "name": "stdout",
     "output_type": "stream",
     "text": [
      "Accuracy:  0.5619047619047619\n",
      "                              precision    recall  f1-score   support\n",
      "\n",
      "        ExcessiveForwardLean       1.00      0.50      0.67        12\n",
      "                 ForwardHead       0.60      0.38      0.46         8\n",
      "          LeftArmFallForward       0.49      0.70      0.58        64\n",
      " LeftAsymmetricalWeightShift       0.50      0.11      0.18         9\n",
      "        LeftKneeMovesOutward       1.00      0.12      0.22         8\n",
      "       LeftShoulderElevation       0.00      0.00      0.00         7\n",
      "         RightArmFallForward       0.43      0.50      0.47        40\n",
      "RightAsymmetricalWeightShift       0.00      0.00      0.00         3\n",
      "              RightHeelRises       0.00      0.00      0.00         1\n",
      "        RightKneeMovesInward       0.00      0.00      0.00         7\n",
      "       RightKneeMovesOutward       0.82      0.92      0.87        25\n",
      "      RightShoulderElevation       0.61      0.73      0.67        26\n",
      "\n",
      "                    accuracy                           0.56       210\n",
      "                   macro avg       0.46      0.33      0.34       210\n",
      "                weighted avg       0.55      0.56      0.52       210\n",
      "\n"
     ]
    }
   ],
   "source": [
    "best_estimator = gscvrffitted.best_estimator_\n",
    "pred = best_estimator.predict(X_test)\n",
    "accuracy = np.mean(y_test == pred)\n",
    "print('Accuracy: ', accuracy)\n",
    "print(metrics.classification_report(y_test, pred))"
   ]
  },
  {
   "cell_type": "code",
   "execution_count": null,
   "metadata": {
    "id": "f3mkBVeJNOHV"
   },
   "outputs": [],
   "source": [
    "parameters = {'kernel':('linear', 'poly', 'rbf', 'sigmoid'), 'C': [0.01, 0.1, 1, 10, 100],'gamma': [0.5, 1, 2, 3, 4]}\n",
    "svc = SVC(random_state=0)\n",
    "gscv = GridSearchCV(svc, parameters)\n",
    "gscvsvc = gscv.fit(X_train, y_train)"
   ]
  },
  {
   "cell_type": "code",
   "execution_count": null,
   "metadata": {
    "id": "pc-LDtHYNOHa",
    "outputId": "b474f4e8-f9ec-4bd5-fde8-e98a20f31946"
   },
   "outputs": [
    {
     "data": {
      "text/plain": [
       "{'C': 0.1, 'gamma': 0.5, 'kernel': 'poly'}"
      ]
     },
     "execution_count": 56,
     "metadata": {
      "tags": []
     },
     "output_type": "execute_result"
    }
   ],
   "source": [
    "gscvsvc.best_params_"
   ]
  },
  {
   "cell_type": "code",
   "execution_count": null,
   "metadata": {
    "id": "Et6N_OxpNOHe",
    "outputId": "33173910-5b3f-4d1d-f9bd-7adbe13aed4b"
   },
   "outputs": [
    {
     "data": {
      "text/plain": [
       "0.6173105141373666"
      ]
     },
     "execution_count": 57,
     "metadata": {
      "tags": []
     },
     "output_type": "execute_result"
    }
   ],
   "source": [
    "gscvsvc.best_score_"
   ]
  },
  {
   "cell_type": "code",
   "execution_count": null,
   "metadata": {
    "id": "ugxrCLdfNOHj",
    "outputId": "169a8472-7b90-4c53-9ca1-d004bbad4589"
   },
   "outputs": [
    {
     "name": "stdout",
     "output_type": "stream",
     "text": [
      "Accuracy:  0.5952380952380952\n",
      "                              precision    recall  f1-score   support\n",
      "\n",
      "        ExcessiveForwardLean       0.88      0.58      0.70        12\n",
      "                 ForwardHead       0.29      0.25      0.27         8\n",
      "          LeftArmFallForward       0.58      0.70      0.64        64\n",
      " LeftAsymmetricalWeightShift       0.67      0.44      0.53         9\n",
      "        LeftKneeMovesOutward       0.00      0.00      0.00         8\n",
      "       LeftShoulderElevation       0.00      0.00      0.00         7\n",
      "         RightArmFallForward       0.54      0.62      0.58        40\n",
      "RightAsymmetricalWeightShift       0.00      0.00      0.00         3\n",
      "              RightHeelRises       0.00      0.00      0.00         1\n",
      "        RightKneeMovesInward       0.00      0.00      0.00         7\n",
      "       RightKneeMovesOutward       0.74      0.92      0.82        25\n",
      "      RightShoulderElevation       0.63      0.73      0.68        26\n",
      "\n",
      "                    accuracy                           0.60       210\n",
      "                   macro avg       0.36      0.35      0.35       210\n",
      "                weighted avg       0.54      0.60      0.56       210\n",
      "\n"
     ]
    }
   ],
   "source": [
    "best_estimator = gscvsvc.best_estimator_\n",
    "pred = best_estimator.predict(X_test)\n",
    "accuracy = np.mean(y_test == pred)\n",
    "print('Accuracy: ', accuracy)\n",
    "print(metrics.classification_report(y_test, pred))"
   ]
  },
  {
   "cell_type": "markdown",
   "metadata": {
    "id": "vRLrQa4sLsuq"
   },
   "source": [
    "#Classification performances of the alternative classifiers"
   ]
  },
  {
   "cell_type": "markdown",
   "metadata": {
    "id": "636fCdf3Maf2"
   },
   "source": [
    "We had implemented and performed tests on the  mean response time for all previously implemented classifiers in order to select the fastest classification model. The code used for these tests can be found in the software implementation on Github. "
   ]
  },
  {
   "cell_type": "markdown",
   "metadata": {
    "id": "VC7FzhNYAAF5"
   },
   "source": [
    "##  Results\n",
    "   \n",
    "| Model            |  Mean Response Time   | \n",
    "|-------------------|---------|\n",
    "| KNN Classifier              |0.001930 s  | \n",
    "| QDA Classifier             |  0.001522 s  | \n",
    "| LDA Classifier              |  **0.001421 s**   | \n",
    "| Decision Tree Classifier              |  0.001434 s   | \n",
    "| Random Forest  Classifier              |  0.011291 s   | \n",
    "| Gradient Boosting  Classifier              |   0.003166 s  | \n",
    "| Support Vector  Classifier              |   0.001513 s  | \n",
    "\n"
   ]
  },
  {
   "cell_type": "markdown",
   "metadata": {
    "id": "sqYEKpeGN_dt"
   },
   "source": [
    "From the results we can see that the Random Forest classifier had a much higher mean response time compared to other models andLDA had the lowest response time of 0.0001421 seconds. In the previous sprint we had determined using cross validation that Random Forest classifier had the highest classification accuracy, in this sprint we saw that SVC had slightly outperformed Random Forest in classification accuracy and from these results we can see that SVC also has a much lower mean response time for prediction. We will therefore deploy SVC as the new model for our classification endpoint"
   ]
  },
  {
   "cell_type": "markdown",
   "metadata": {
    "id": "Mw2FiWSRBk68"
   },
   "source": [
    "# Development & DevOps of extra features\n"
   ]
  },
  {
   "cell_type": "markdown",
   "metadata": {
    "id": "mAQ5Fe4nBpaL"
   },
   "source": [
    "1. Implemented logger as a part of architecture\n",
    "2. Added results logging during the model training\n",
    "3. Added cross validation as an option for train method\n",
    "4. Added grid search to train method\n",
    "5. Conducted the code cleanup"
   ]
  }
 ],
 "metadata": {
  "colab": {
   "provenance": [],
   "toc_visible": true
  },
  "kernelspec": {
   "display_name": "Python 3 (ipykernel)",
   "language": "python",
   "name": "python3"
  },
  "language_info": {
   "codemirror_mode": {
    "name": "ipython",
    "version": 3
   },
   "file_extension": ".py",
   "mimetype": "text/x-python",
   "name": "python",
   "nbconvert_exporter": "python",
   "pygments_lexer": "ipython3",
   "version": "3.10.7"
  }
 },
 "nbformat": 4,
 "nbformat_minor": 1
}
