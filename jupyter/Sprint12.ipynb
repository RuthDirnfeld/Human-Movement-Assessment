{
 "cells": [
  {
   "cell_type": "markdown",
   "metadata": {
    "colab_type": "text",
    "id": "6kB1exnHnFgX"
   },
   "source": [
    "# Architecture"
   ]
  },
  {
   "cell_type": "markdown",
   "metadata": {
    "colab_type": "text",
    "id": "VKWGkIujl8Ch"
   },
   "source": [
    "#![alt text](https://drive.google.com/uc?id=1Q7lWDSivuMWbXaF8n46gNWIj94PFwn-p)"
   ]
  },
  {
   "cell_type": "markdown",
   "metadata": {
    "colab_type": "text",
    "id": "j6nWydfinJtu"
   },
   "source": [
    "In order for the end-goal product to be up and running the VideoProcessor core should be integrated with the web service and Score evaluation API. Video processor includes the following modes which share the same interface:\n",
    "* Pose Net Detector\n",
    "* Pose Net To Kinect\n",
    "* Kinect 3D\n",
    "* Key Frame Detector\n",
    "HTTP API and UI are used as the components af the web service. As for the evaluation API - it is the component which will be used for scoring the exercise and detection of poorly performed body parts during exercise conduction."
   ]
  },
  {
   "cell_type": "markdown",
   "metadata": {
    "colab_type": "text",
    "id": "nWNmpD8XqQ4U"
   },
   "source": [
    "## Web Service Instruction\n",
    "In order to get the robust results from the descripbed service the following step should be followed."
   ]
  },
  {
   "cell_type": "markdown",
   "metadata": {
    "colab_type": "text",
    "id": "JhiMxrKmoT0C"
   },
   "source": [
    "#### Home Web Page\n",
    "Press `Process Video` to get to the page with video selection option."
   ]
  },
  {
   "cell_type": "markdown",
   "metadata": {
    "colab_type": "text",
    "id": "YEliDtptoWer"
   },
   "source": [
    "#![alt text](https://drive.google.com/uc?id=1B16ANyzZK_Cusum1itkekrFucfYxu_TC)"
   ]
  },
  {
   "cell_type": "markdown",
   "metadata": {
    "colab_type": "text",
    "id": "19F_U1aDoWns"
   },
   "source": [
    "#### Video Processing Web Page\n",
    "Select the video you like to be processed. The kinect3D records would be created for it as well as the video with the pose visualization or the person that is performing exercise."
   ]
  },
  {
   "cell_type": "markdown",
   "metadata": {
    "colab_type": "text",
    "id": "WBki6c33oUDF"
   },
   "source": [
    "#![alt text](https://drive.google.com/uc?id=1rjhlHM25h7e9YxGSYrQaOqb6-PQ8TSpa)"
   ]
  },
  {
   "cell_type": "markdown",
   "metadata": {
    "colab_type": "text",
    "id": "4psIl0KkpaBM"
   },
   "source": [
    "#### Video Processing Results\n",
    "Also gives the opportunity to download the .csv results and processed video."
   ]
  },
  {
   "cell_type": "markdown",
   "metadata": {
    "colab_type": "text",
    "id": "MeesGdqnpaHn"
   },
   "source": [
    "#![alt text](https://drive.google.com/uc?id=14K1BlYkJ7KYCdPBvAYV89vUZjqieC5TT)"
   ]
  },
  {
   "cell_type": "markdown",
   "metadata": {
    "colab_type": "text",
    "id": "eDIb2bNzqKgs"
   },
   "source": [
    "## Updates & Fixes\n",
    "\n",
    "* Created Video Processor to wrap the whole DL and pre-processing pipeline.\n",
    "* Designed REST API for service\n",
    "* Implemented UI for service\n",
    "\n",
    "* Updated kinect model class to be able to generate grouped x,y,z coodrinates of joints except generating z-axis values.\n",
    "* Updates configs\n",
    "* Updated PoseNet wrapper to make it robust for all video formats/resolutions\n",
    "\n",
    "* Added fixes to Notebooks: 9, 10"
   ]
  },
  {
   "cell_type": "markdown",
   "metadata": {
    "colab_type": "text",
    "id": "XPyeirO5tOCu"
   },
   "source": [
    "## Testing\n",
    "The testing was performed on the pack of videos which were used for kinect model evaluation, approximately 180records. It was also tested for different durations 20-120second and resolutions (FullHD included). During testing some modules were affecture which caused the fixes described above."
   ]
  },
  {
   "cell_type": "markdown",
   "metadata": {
    "colab_type": "text",
    "id": "oa8WTj5WuDp9"
   },
   "source": [
    "## Deployment\n",
    "The REST service was deployed on the AWS instance to keep it running 24/7. Also the AWS Elastic IP was used to help solve the problem with dynamicaly changing IP address for the instance after it reboot/fail."
   ]
  }
 ],
 "metadata": {
  "colab": {
   "name": "Assignment_12.ipynb",
   "provenance": []
  },
  "kernelspec": {
   "display_name": "Python 3 (ipykernel)",
   "language": "python",
   "name": "python3"
  },
  "language_info": {
   "codemirror_mode": {
    "name": "ipython",
    "version": 3
   },
   "file_extension": ".py",
   "mimetype": "text/x-python",
   "name": "python",
   "nbconvert_exporter": "python",
   "pygments_lexer": "ipython3",
   "version": "3.10.7"
  }
 },
 "nbformat": 4,
 "nbformat_minor": 1
}
